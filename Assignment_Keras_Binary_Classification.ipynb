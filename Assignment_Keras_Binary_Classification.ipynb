{
  "nbformat": 4,
  "nbformat_minor": 0,
  "metadata": {
    "colab": {
      "name": "Assignment_Keras_Binary_Classification.ipynb",
      "provenance": [],
      "collapsed_sections": []
    },
    "kernelspec": {
      "name": "python3",
      "display_name": "Python 3"
    },
    "accelerator": "GPU"
  },
  "cells": [
    {
      "cell_type": "markdown",
      "metadata": {
        "id": "JKbgFz4AhYvK"
      },
      "source": [
        "# Deep Learning Medical Image Analysis Example\n",
        "A simple convolutional neural network model trained using a PneumoniaMNIST image dataset.\n",
        "\n",
        "The PneumoniaMNIST is based on a prior dataset of 5,856 pediatric chest X-Ray images."
      ]
    },
    {
      "cell_type": "markdown",
      "metadata": {
        "id": "LICWjsiH5Ysh"
      },
      "source": [
        "## Python Imports\n",
        "This section will load the necessary python packages to the instance."
      ]
    },
    {
      "cell_type": "code",
      "metadata": {
        "id": "4r14DjPX5XAT"
      },
      "source": [
        "# Built-in Imports\n",
        "import random"
      ],
      "execution_count": 1,
      "outputs": []
    },
    {
      "cell_type": "code",
      "metadata": {
        "id": "_9akxJOL576W"
      },
      "source": [
        "# Library Imports\n",
        "import numpy as np\n",
        "import pandas as pd\n",
        "import matplotlib.pyplot as plt\n",
        "from sklearn.metrics import classification_report, confusion_matrix, ConfusionMatrixDisplay"
      ],
      "execution_count": 2,
      "outputs": []
    },
    {
      "cell_type": "code",
      "metadata": {
        "id": "PPushucynmye"
      },
      "source": [
        "# Keras Imports\n",
        "from tensorflow.keras import layers,models,preprocessing\n",
        "from tensorflow.keras.models import Model\n",
        "from tensorflow.keras.optimizers import SGD\n",
        "from tensorflow.keras.utils import get_file, to_categorical\n",
        "from tensorflow.keras.preprocessing.image import ImageDataGenerator"
      ],
      "execution_count": 3,
      "outputs": []
    },
    {
      "cell_type": "markdown",
      "metadata": {
        "id": "UfG7LUYZz6I2"
      },
      "source": [
        "## Dataset Downloader\n",
        "This section will download the selected [MedMNIST](https://medmnist.github.io/) dataset as a NumPy array object to your Google Colab instance. "
      ]
    },
    {
      "cell_type": "code",
      "metadata": {
        "id": "WFsupyTxnHgN"
      },
      "source": [
        "# MedMNIST Pneumonia Binary Classification Dataset\n",
        "DATA_NAME = \"PneumoniaMNIST\";"
      ],
      "execution_count": 4,
      "outputs": []
    },
    {
      "cell_type": "code",
      "metadata": {
        "colab": {
          "base_uri": "https://localhost:8080/"
        },
        "id": "vrpiQg5VkbsL",
        "outputId": "975a4843-cc71-4d0c-a33b-1252a0bfc2ea"
      },
      "source": [
        "!wget https://raw.githubusercontent.com/MedMNIST/MedMNIST/main/medmnist/info.py\n",
        "from info import INFO\n",
        "data = INFO[DATA_NAME.lower()]"
      ],
      "execution_count": 5,
      "outputs": [
        {
          "output_type": "stream",
          "name": "stdout",
          "text": [
            "--2022-04-08 22:56:56--  https://raw.githubusercontent.com/MedMNIST/MedMNIST/main/medmnist/info.py\n",
            "Resolving raw.githubusercontent.com (raw.githubusercontent.com)... 185.199.108.133, 185.199.109.133, 185.199.110.133, ...\n",
            "Connecting to raw.githubusercontent.com (raw.githubusercontent.com)|185.199.108.133|:443... connected.\n",
            "HTTP request sent, awaiting response... 200 OK\n",
            "Length: 22843 (22K) [text/plain]\n",
            "Saving to: ‘info.py’\n",
            "\n",
            "\rinfo.py               0%[                    ]       0  --.-KB/s               \rinfo.py             100%[===================>]  22.31K  --.-KB/s    in 0s      \n",
            "\n",
            "2022-04-08 22:56:56 (63.2 MB/s) - ‘info.py’ saved [22843/22843]\n",
            "\n"
          ]
        }
      ]
    },
    {
      "cell_type": "code",
      "source": [
        "# Info about Dataset\n",
        "data"
      ],
      "metadata": {
        "colab": {
          "base_uri": "https://localhost:8080/"
        },
        "id": "LYt1NulnliEF",
        "outputId": "5d939470-955a-4c27-f3c6-e0968a026abf"
      },
      "execution_count": 6,
      "outputs": [
        {
          "output_type": "execute_result",
          "data": {
            "text/plain": [
              "{'MD5': '28209eda62fecd6e6a2d98b1501bb15f',\n",
              " 'description': 'The PneumoniaMNIST is based on a prior dataset of 5,856 pediatric chest X-Ray images. The task is binary-class classification of pneumonia against normal. We split the source training set with a ratio of 9:1 into training and validation set and use its source validation set as the test set. The source images are gray-scale, and their sizes are (384−2,916)×(127−2,713). We center-crop the images and resize them into 1×28×28.',\n",
              " 'label': {'0': 'normal', '1': 'pneumonia'},\n",
              " 'license': 'CC BY 4.0',\n",
              " 'n_channels': 1,\n",
              " 'n_samples': {'test': 624, 'train': 4708, 'val': 524},\n",
              " 'python_class': 'PneumoniaMNIST',\n",
              " 'task': 'binary-class',\n",
              " 'url': 'https://zenodo.org/record/5208230/files/pneumoniamnist.npz?download=1'}"
            ]
          },
          "metadata": {},
          "execution_count": 6
        }
      ]
    },
    {
      "cell_type": "code",
      "metadata": {
        "id": "nbCWsdDP0ECH",
        "colab": {
          "base_uri": "https://localhost:8080/"
        },
        "outputId": "ab9993ee-4833-4a4c-9a06-494da439cc81"
      },
      "source": [
        "# Downloads the dataset file hosted on Zenodo.\n",
        "file_path = get_file(fname=\"dataset.npz\", \n",
        "                     origin=data[\"url\"], \n",
        "                     md5_hash=data[\"MD5\"])"
      ],
      "execution_count": 7,
      "outputs": [
        {
          "output_type": "stream",
          "name": "stdout",
          "text": [
            "Downloading data from https://zenodo.org/record/5208230/files/pneumoniamnist.npz?download=1\n",
            "4177920/4170669 [==============================] - 1s 0us/step\n",
            "4186112/4170669 [==============================] - 1s 0us/step\n"
          ]
        }
      ]
    },
    {
      "cell_type": "code",
      "metadata": {
        "id": "GFPDZJZJ6o_T"
      },
      "source": [
        "# Loads the downloaded NumPy object.\n",
        "dataset = np.load(file_path)\n",
        "\n",
        "# Gets the training images and labels from the NumPy object.\n",
        "train_x = dataset[\"train_images\"]\n",
        "train_y = dataset[\"train_labels\"]\n",
        "\n",
        "# Gets the validation images and labels from the NumPy object.\n",
        "val_x = dataset[\"val_images\"]\n",
        "val_y = dataset[\"val_labels\"]\n",
        "\n",
        "# Gets the testing images and labels from the NumPy object.\n",
        "test_x = dataset[\"test_images\"]\n",
        "test_y = dataset[\"test_labels\"]"
      ],
      "execution_count": 8,
      "outputs": []
    },
    {
      "cell_type": "markdown",
      "metadata": {
        "id": "TRN-KCObfI18"
      },
      "source": [
        "## Data Exploration\n",
        "In this section we have a look at our data, their distributions to see if it is ready to be used within our machine learning algorithm."
      ]
    },
    {
      "cell_type": "code",
      "metadata": {
        "colab": {
          "base_uri": "https://localhost:8080/"
        },
        "id": "gMAxCIw3-JOW",
        "outputId": "2a1217aa-a79d-4e6e-ec57-24f96dbd1365"
      },
      "source": [
        "# Declares a list of labels.\n",
        "labels = list(data[\"label\"].values()) + [\"total\"]\n",
        "\n",
        "# Gets the counts for each label in each of our datasets.\n",
        "_, train_counts = np.unique(train_y, return_counts=True)\n",
        "_, val_counts = np.unique(val_y, return_counts=True)\n",
        "_, test_counts = np.unique(test_y, return_counts=True)\n",
        "\n",
        "# Prints the counts for each label from each dataset.\n",
        "print(pd.DataFrame(list(zip(np.append(train_counts, [sum(train_counts)]), \n",
        "                            np.append(val_counts, [sum(val_counts)]), \n",
        "                            np.append(test_counts, [sum(test_counts)]))), \n",
        "                   index=labels, columns=[\"Train\", \"Val\", \"Test\"]))"
      ],
      "execution_count": 9,
      "outputs": [
        {
          "output_type": "stream",
          "name": "stdout",
          "text": [
            "           Train  Val  Test\n",
            "normal      1214  135   234\n",
            "pneumonia   3494  389   390\n",
            "total       4708  524   624\n"
          ]
        }
      ]
    },
    {
      "cell_type": "code",
      "metadata": {
        "colab": {
          "base_uri": "https://localhost:8080/",
          "height": 300
        },
        "id": "AQ4Qba5sdt_Q",
        "outputId": "2f797be1-aaec-4180-b8d9-5b9776921a2f"
      },
      "source": [
        "# Displays a random Grayscale image from training dataset.\n",
        "index = random.randint(0, len(train_x))\n",
        "print(f\"{index}: {labels[train_y[index][0]]}\")\n",
        "plt.imshow(train_x[random.randint(0, len(train_x))],vmin=0, vmax=255)"
      ],
      "execution_count": 10,
      "outputs": [
        {
          "output_type": "stream",
          "name": "stdout",
          "text": [
            "1731: pneumonia\n"
          ]
        },
        {
          "output_type": "execute_result",
          "data": {
            "text/plain": [
              "<matplotlib.image.AxesImage at 0x7f4adeca7b90>"
            ]
          },
          "metadata": {},
          "execution_count": 10
        },
        {
          "output_type": "display_data",
          "data": {
            "text/plain": [
              "<Figure size 432x288 with 1 Axes>"
            ],
            "image/png": "[encoded data removed]"
          },
          "metadata": {
            "needs_background": "light"
          }
        }
      ]
    },
    {
      "cell_type": "code",
      "source": [
        "# Adding depth dimension for Grayscale images for rank 4\n",
        "train_x = train_x[...,np.newaxis]\n",
        "val_x = val_x[...,np.newaxis]"
      ],
      "metadata": {
        "id": "oynIuFRKtP7U"
      },
      "execution_count": 11,
      "outputs": []
    },
    {
      "cell_type": "markdown",
      "metadata": {
        "id": "61PPEn8Dhp_v"
      },
      "source": [
        "## Data Processing\n",
        "In this section we will create a data loader for algorithm that will dynamiclly load and augment the data when needed."
      ]
    },
    {
      "cell_type": "code",
      "metadata": {
        "id": "eKrtg2heh4tF"
      },
      "source": [
        "# Defines the data generator that will be used to augment the images as they are loaded.\n",
        "data_generator = ImageDataGenerator(featurewise_center=True,\n",
        "                                    featurewise_std_normalization=True,\n",
        "                                    horizontal_flip=True, \n",
        "                                    vertical_flip=True)"
      ],
      "execution_count": 12,
      "outputs": []
    },
    {
      "cell_type": "code",
      "metadata": {
        "id": "d5TzJV-O3nD7"
      },
      "source": [
        "# Fit the Data to DataGenerator\n",
        "data_generator.fit(np.append(train_x, val_x, 0))"
      ],
      "execution_count": 13,
      "outputs": []
    },
    {
      "cell_type": "markdown",
      "metadata": {
        "id": "ptmuEdE1p9MU"
      },
      "source": [
        "## Model Definition\n",
        "In this section we will define the neural network arcitecture."
      ]
    },
    {
      "cell_type": "code",
      "source": [
        "# Define the input layer of the model with the size of an image.\n",
        "input = layers.Input(shape=train_x[0].shape)\n",
        "\n",
        "# Defines the first convolutional layer with max pooling.\n",
        "conv_1 = layers.Conv2D(filters=32, kernel_size=3, activation=\"relu\")(input)\n",
        "pool_1 = layers.MaxPool2D(pool_size=(2, 2))(conv_1)\n",
        "\n",
        "# Defines the second convolutional layer with max pooling.\n",
        "conv_2 = layers.Conv2D(filters=32, kernel_size=3, activation=\"relu\")(pool_1)\n",
        "pool_2 = layers.MaxPool2D(pool_size=(2, 2))(conv_2)\n",
        "\n",
        "# Flattens the outputs of the convolutoonal layers into a one dimensional array.\n",
        "flatten = layers.Flatten()(pool_2)\n",
        "\n",
        "# Defines the output layer of the model a number of output nodes equal to the number of classes.\n",
        "output = layers.Dense(units=len(np.unique(train_y)), activation=\"sigmoid\")(flatten)\n",
        "\n",
        "# Initilises the defined model and prints summary of the model.\n",
        "model = Model(inputs=input, outputs=output, name=\"Model\")\n",
        "model.summary()"
      ],
      "metadata": {
        "colab": {
          "base_uri": "https://localhost:8080/"
        },
        "id": "p0loFTyOoLeM",
        "outputId": "4ddf78f4-0c03-40a1-eeb1-148fc32cfe2a"
      },
      "execution_count": 14,
      "outputs": [
        {
          "output_type": "stream",
          "name": "stdout",
          "text": [
            "Model: \"Model\"\n",
            "_________________________________________________________________\n",
            " Layer (type)                Output Shape              Param #   \n",
            "=================================================================\n",
            " input_1 (InputLayer)        [(None, 28, 28, 1)]       0         \n",
            "                                                                 \n",
            " conv2d (Conv2D)             (None, 26, 26, 32)        320       \n",
            "                                                                 \n",
            " max_pooling2d (MaxPooling2D  (None, 13, 13, 32)       0         \n",
            " )                                                               \n",
            "                                                                 \n",
            " conv2d_1 (Conv2D)           (None, 11, 11, 32)        9248      \n",
            "                                                                 \n",
            " max_pooling2d_1 (MaxPooling  (None, 5, 5, 32)         0         \n",
            " 2D)                                                             \n",
            "                                                                 \n",
            " flatten (Flatten)           (None, 800)               0         \n",
            "                                                                 \n",
            " dense (Dense)               (None, 2)                 1602      \n",
            "                                                                 \n",
            "=================================================================\n",
            "Total params: 11,170\n",
            "Trainable params: 11,170\n",
            "Non-trainable params: 0\n",
            "_________________________________________________________________\n"
          ]
        }
      ]
    },
    {
      "cell_type": "markdown",
      "metadata": {
        "id": "SdMcAtCztO0b"
      },
      "source": [
        "## Model Training\n",
        "This is where we define the training options and then train the model.\n"
      ]
    },
    {
      "cell_type": "code",
      "metadata": {
        "id": "bEypwRiMuPCn"
      },
      "source": [
        "# Defines the parameters used during training.\n",
        "BATCH_SIZE = 64\n",
        "NUM_EPOCHS = 20\n",
        "LEARNING_RATE = 0.001"
      ],
      "execution_count": 15,
      "outputs": []
    },
    {
      "cell_type": "code",
      "metadata": {
        "id": "Qb9WcL7ZtPZE"
      },
      "source": [
        "# Defines the optimiser used to adjust the model weights and compiles the model.\n",
        "optimiser = SGD(learning_rate=LEARNING_RATE)\n",
        "model.compile(optimizer=optimiser, loss=\"binary_crossentropy\", metrics=[\"accuracy\"])"
      ],
      "execution_count": 38,
      "outputs": []
    },
    {
      "cell_type": "code",
      "source": [
        "train_x.shape,train_y.shape"
      ],
      "metadata": {
        "colab": {
          "base_uri": "https://localhost:8080/"
        },
        "id": "cSjCCHUCG8bp",
        "outputId": "17a7a460-9061-4224-d27f-9ecfa24901ab"
      },
      "execution_count": 21,
      "outputs": [
        {
          "output_type": "execute_result",
          "data": {
            "text/plain": [
              "((4708, 28, 28, 1), (4708, 1))"
            ]
          },
          "metadata": {},
          "execution_count": 21
        }
      ]
    },
    {
      "cell_type": "code",
      "metadata": {
        "colab": {
          "base_uri": "https://localhost:8080/"
        },
        "id": "SOy4ArHyvIhR",
        "outputId": "077983cf-b9fa-46f9-ea59-91570e9c698e"
      },
      "source": [
        "# We use the data generator to pass the training and validation data to the model to train it.\n",
        "history = model.fit(data_generator.flow(train_x, to_categorical(train_y), batch_size=BATCH_SIZE), \n",
        "                    steps_per_epoch=len(train_x) / BATCH_SIZE,\n",
        "                    validation_data=data_generator.flow(val_x, to_categorical(val_y), batch_size=BATCH_SIZE),\n",
        "                    validation_steps=len(val_x) / BATCH_SIZE,\n",
        "                    epochs=NUM_EPOCHS)"
      ],
      "execution_count": 39,
      "outputs": [
        {
          "output_type": "stream",
          "name": "stdout",
          "text": [
            "Epoch 1/20\n",
            "73/73 [==============================] - 4s 51ms/step - loss: 0.5634 - accuracy: 0.7421 - val_loss: 0.5657 - val_accuracy: 0.7424\n",
            "Epoch 2/20\n",
            "73/73 [==============================] - 4s 49ms/step - loss: 0.5571 - accuracy: 0.7421 - val_loss: 0.5587 - val_accuracy: 0.7424\n",
            "Epoch 3/20\n",
            "73/73 [==============================] - 4s 50ms/step - loss: 0.5510 - accuracy: 0.7421 - val_loss: 0.5516 - val_accuracy: 0.7424\n",
            "Epoch 4/20\n",
            "73/73 [==============================] - 4s 49ms/step - loss: 0.5456 - accuracy: 0.7421 - val_loss: 0.5469 - val_accuracy: 0.7424\n",
            "Epoch 5/20\n",
            "73/73 [==============================] - 4s 49ms/step - loss: 0.5393 - accuracy: 0.7421 - val_loss: 0.5403 - val_accuracy: 0.7424\n",
            "Epoch 6/20\n",
            "73/73 [==============================] - 4s 50ms/step - loss: 0.5325 - accuracy: 0.7421 - val_loss: 0.5376 - val_accuracy: 0.7424\n",
            "Epoch 7/20\n",
            "73/73 [==============================] - 4s 50ms/step - loss: 0.5281 - accuracy: 0.7421 - val_loss: 0.5323 - val_accuracy: 0.7424\n",
            "Epoch 8/20\n",
            "73/73 [==============================] - 5s 61ms/step - loss: 0.5229 - accuracy: 0.7421 - val_loss: 0.5265 - val_accuracy: 0.7424\n",
            "Epoch 9/20\n",
            "73/73 [==============================] - 4s 50ms/step - loss: 0.5167 - accuracy: 0.7421 - val_loss: 0.5230 - val_accuracy: 0.7424\n",
            "Epoch 10/20\n",
            "73/73 [==============================] - 4s 50ms/step - loss: 0.5117 - accuracy: 0.7421 - val_loss: 0.5160 - val_accuracy: 0.7424\n",
            "Epoch 11/20\n",
            "73/73 [==============================] - 4s 51ms/step - loss: 0.5070 - accuracy: 0.7421 - val_loss: 0.5139 - val_accuracy: 0.7405\n",
            "Epoch 12/20\n",
            "73/73 [==============================] - 4s 51ms/step - loss: 0.5009 - accuracy: 0.7430 - val_loss: 0.5065 - val_accuracy: 0.7443\n",
            "Epoch 13/20\n",
            "73/73 [==============================] - 4s 50ms/step - loss: 0.4950 - accuracy: 0.7436 - val_loss: 0.5009 - val_accuracy: 0.7443\n",
            "Epoch 14/20\n",
            "73/73 [==============================] - 4s 52ms/step - loss: 0.4895 - accuracy: 0.7455 - val_loss: 0.4969 - val_accuracy: 0.7385\n",
            "Epoch 15/20\n",
            "73/73 [==============================] - 4s 51ms/step - loss: 0.4836 - accuracy: 0.7498 - val_loss: 0.4927 - val_accuracy: 0.7462\n",
            "Epoch 16/20\n",
            "73/73 [==============================] - 4s 52ms/step - loss: 0.4783 - accuracy: 0.7581 - val_loss: 0.4846 - val_accuracy: 0.7500\n",
            "Epoch 17/20\n",
            "73/73 [==============================] - 4s 51ms/step - loss: 0.4729 - accuracy: 0.7579 - val_loss: 0.4787 - val_accuracy: 0.7634\n",
            "Epoch 18/20\n",
            "73/73 [==============================] - 4s 51ms/step - loss: 0.4672 - accuracy: 0.7655 - val_loss: 0.4754 - val_accuracy: 0.7615\n",
            "Epoch 19/20\n",
            "73/73 [==============================] - 4s 51ms/step - loss: 0.4606 - accuracy: 0.7712 - val_loss: 0.4699 - val_accuracy: 0.7691\n",
            "Epoch 20/20\n",
            "73/73 [==============================] - 4s 50ms/step - loss: 0.4556 - accuracy: 0.7816 - val_loss: 0.4681 - val_accuracy: 0.7653\n"
          ]
        }
      ]
    },
    {
      "cell_type": "code",
      "source": [
        "# Evaluating model on test data\n",
        "test_y = to_categorical(test_y)\n"
      ],
      "metadata": {
        "id": "MiSalABUW49N"
      },
      "execution_count": 25,
      "outputs": []
    },
    {
      "cell_type": "code",
      "source": [
        "model.evaluate(test_x, test_y)"
      ],
      "metadata": {
        "colab": {
          "base_uri": "https://localhost:8080/"
        },
        "id": "7S77Oib_cqLL",
        "outputId": "576593b2-5fde-4ff5-cd7e-afb7c8f1d227"
      },
      "execution_count": 40,
      "outputs": [
        {
          "output_type": "stream",
          "name": "stdout",
          "text": [
            "20/20 [==============================] - 0s 9ms/step - loss: 95.6750 - accuracy: 0.6250\n"
          ]
        },
        {
          "output_type": "execute_result",
          "data": {
            "text/plain": [
              "[95.67496490478516, 0.625]"
            ]
          },
          "metadata": {},
          "execution_count": 40
        }
      ]
    },
    {
      "cell_type": "code",
      "source": [
        "# Plots the training and validation accuracy over the number of epochs.\n",
        "plt.plot(history.history['accuracy'])\n",
        "plt.plot(history.history['val_accuracy'])\n",
        "plt.title('Model Accuracy')\n",
        "plt.ylabel('Accuracy')\n",
        "plt.xlabel('Epoch')\n",
        "plt.legend(['Train', 'Validation'], loc='lower right')\n",
        "plt.show()"
      ],
      "metadata": {
        "colab": {
          "base_uri": "https://localhost:8080/",
          "height": 295
        },
        "id": "1c831nvFxq-p",
        "outputId": "8c595cda-3aad-4c94-daef-4017459b01a1"
      },
      "execution_count": 93,
      "outputs": [
        {
          "output_type": "display_data",
          "data": {
            "text/plain": [
              "<Figure size 432x288 with 1 Axes>"
            ],
            "image/png": "[encoded data removed]"
          },
          "metadata": {
            "needs_background": "light"
          }
        }
      ]
    },
    {
      "cell_type": "code",
      "source": [
        "plt.plot(history.history['loss'])\n",
        "plt.plot(history.history['val_loss'])\n",
        "plt.title('Model Loss')\n",
        "plt.ylabel('Loss')\n",
        "plt.xlabel('Epoch')\n",
        "plt.legend(['Train', 'Validation'], loc='upper right')\n",
        "plt.show()"
      ],
      "metadata": {
        "colab": {
          "base_uri": "https://localhost:8080/",
          "height": 295
        },
        "id": "_mU4OI9zx0Ae",
        "outputId": "1fa698e9-010f-4b20-f60a-0541408604f0"
      },
      "execution_count": 94,
      "outputs": [
        {
          "output_type": "display_data",
          "data": {
            "text/plain": [
              "<Figure size 432x288 with 1 Axes>"
            ],
            "image/png": "[encoded data removed]"
          },
          "metadata": {
            "needs_background": "light"
          }
        }
      ]
    },
    {
      "cell_type": "markdown",
      "metadata": {
        "id": "0bw_0oKy4UdI"
      },
      "source": [
        "## Plot Learning Curves\n",
        "This is where we visualise the training of the model."
      ]
    },
    {
      "cell_type": "code",
      "metadata": {
        "colab": {
          "base_uri": "https://localhost:8080/",
          "height": 295
        },
        "id": "8DOxQYV0oDmJ",
        "outputId": "923702e7-8632-468c-a126-ba2fbacfa93b"
      },
      "source": [
        "# Plots the training and validation accuracy over the number of epochs.\n",
        "plt.plot(history.history['accuracy'])\n",
        "plt.plot(history.history['val_accuracy'])\n",
        "plt.title('Model Accuracy')\n",
        "plt.ylabel('Accuracy')\n",
        "plt.xlabel('Epoch')\n",
        "plt.legend(['Train', 'Validation'], loc='lower right')\n",
        "plt.show()"
      ],
      "execution_count": 41,
      "outputs": [
        {
          "output_type": "display_data",
          "data": {
            "text/plain": [
              "<Figure size 432x288 with 1 Axes>"
            ],
            "image/png": "[encoded data removed]"
          },
          "metadata": {
            "needs_background": "light"
          }
        }
      ]
    },
    {
      "cell_type": "code",
      "metadata": {
        "id": "ZSQWVOnY4cdA",
        "colab": {
          "base_uri": "https://localhost:8080/",
          "height": 295
        },
        "outputId": "053da63e-9581-4f05-8970-e470a0980454"
      },
      "source": [
        "# Plots the training and validation loss over the number of epochs.\n",
        "plt.plot(history.history['loss'])\n",
        "plt.plot(history.history['val_loss'])\n",
        "plt.title('Model Loss')\n",
        "plt.ylabel('Loss')\n",
        "plt.xlabel('Epoch')\n",
        "plt.legend(['Train', 'Validation'], loc='upper right')\n",
        "plt.show()"
      ],
      "execution_count": 42,
      "outputs": [
        {
          "output_type": "display_data",
          "data": {
            "text/plain": [
              "<Figure size 432x288 with 1 Axes>"
            ],
            "image/png": "[encoded data removed]"
          },
          "metadata": {
            "needs_background": "light"
          }
        }
      ]
    },
    {
      "cell_type": "markdown",
      "metadata": {
        "id": "9WemuzD2SpsF"
      },
      "source": [
        "## Model Definition Q2\n",
        "In this section we will define the neural network arcitecture.\n",
        "\n",
        "A network with dense layers but no convolutional layers, designed to have a total number of\n",
        "parameters comparable to the convnet in 1."
      ]
    },
    {
      "cell_type": "code",
      "source": [
        "# Q2 Assn, Only Dense Layers\n",
        "\n",
        "# Define the input layer of the model with the size of an image.\n",
        "input = layers.Input(shape=train_x[0].shape)\n",
        "\n",
        "# Dense Layers\n",
        "flatten = layers.Flatten()(input)\n",
        "dense1 = layers.Dense(16, activation='relu')(flatten)\n",
        "\n",
        "# Defines the output layer of the model a number of output nodes equal to the number of classes.\n",
        "output = layers.Dense(units=len(np.unique(train_y)), activation=\"sigmoid\")(dense1)\n",
        "\n",
        "# Initilises the defined model and prints summary of the model.\n",
        "denseModel = Model(inputs=input, outputs=output, name=\"Model\")\n",
        "denseModel.summary()"
      ],
      "metadata": {
        "colab": {
          "base_uri": "https://localhost:8080/"
        },
        "outputId": "10f2a0a1-2787-4635-b833-c7671c4467e2",
        "id": "aJBv2ur1SpsG"
      },
      "execution_count": 44,
      "outputs": [
        {
          "output_type": "stream",
          "name": "stdout",
          "text": [
            "Model: \"Model\"\n",
            "_________________________________________________________________\n",
            " Layer (type)                Output Shape              Param #   \n",
            "=================================================================\n",
            " input_6 (InputLayer)        [(None, 28, 28, 1)]       0         \n",
            "                                                                 \n",
            " flatten_5 (Flatten)         (None, 784)               0         \n",
            "                                                                 \n",
            " dense_10 (Dense)            (None, 16)                12560     \n",
            "                                                                 \n",
            " dense_11 (Dense)            (None, 2)                 34        \n",
            "                                                                 \n",
            "=================================================================\n",
            "Total params: 12,594\n",
            "Trainable params: 12,594\n",
            "Non-trainable params: 0\n",
            "_________________________________________________________________\n"
          ]
        }
      ]
    },
    {
      "cell_type": "markdown",
      "metadata": {
        "id": "1JBeCxrgSpsG"
      },
      "source": [
        "## Model Training Q2\n",
        "This is where we define the training options and then train the model.\n"
      ]
    },
    {
      "cell_type": "code",
      "metadata": {
        "id": "NcLs7HWxSpsG"
      },
      "source": [
        "# Defines the parameters used during training.\n",
        "BATCH_SIZE = 64\n",
        "NUM_EPOCHS = 20\n",
        "LEARNING_RATE = 0.001"
      ],
      "execution_count": 45,
      "outputs": []
    },
    {
      "cell_type": "code",
      "metadata": {
        "id": "mLzQe_X8SpsH"
      },
      "source": [
        "# Defines the optimiser used to adjust the model weights and compiles the model.\n",
        "optimiser = SGD(learning_rate=LEARNING_RATE)\n",
        "denseModel.compile(optimizer=optimiser, loss=\"binary_crossentropy\", metrics=[\"accuracy\"])"
      ],
      "execution_count": 46,
      "outputs": []
    },
    {
      "cell_type": "code",
      "source": [
        "train_x.shape,train_y.shape"
      ],
      "metadata": {
        "colab": {
          "base_uri": "https://localhost:8080/"
        },
        "outputId": "afba5fbb-7b5d-4fb8-e779-a919ae67c97c",
        "id": "GNEZXH8_SpsH"
      },
      "execution_count": 98,
      "outputs": [
        {
          "output_type": "execute_result",
          "data": {
            "text/plain": [
              "((4708, 28, 28, 1), (4708, 1))"
            ]
          },
          "metadata": {},
          "execution_count": 98
        }
      ]
    },
    {
      "cell_type": "code",
      "metadata": {
        "colab": {
          "base_uri": "https://localhost:8080/"
        },
        "outputId": "cab4847a-4de2-4c28-8e13-29293e44872c",
        "id": "ZqCZCwPISpsH"
      },
      "source": [
        "# We use the data generator to pass the training and validation data to the model to train it.\n",
        "history = denseModel.fit(data_generator.flow(train_x, to_categorical(train_y), batch_size=BATCH_SIZE), \n",
        "                    steps_per_epoch=len(train_x) / BATCH_SIZE,\n",
        "                    validation_data=data_generator.flow(val_x, to_categorical(val_y), batch_size=BATCH_SIZE),\n",
        "                    validation_steps=len(val_x) / BATCH_SIZE,\n",
        "                    epochs=NUM_EPOCHS)"
      ],
      "execution_count": 47,
      "outputs": [
        {
          "output_type": "stream",
          "name": "stdout",
          "text": [
            "Epoch 1/20\n",
            "73/73 [==============================] - 1s 7ms/step - loss: 0.8718 - accuracy: 0.5057 - val_loss: 0.7227 - val_accuracy: 0.6031\n",
            "Epoch 2/20\n",
            "73/73 [==============================] - 0s 6ms/step - loss: 0.6632 - accuracy: 0.6591 - val_loss: 0.5985 - val_accuracy: 0.7424\n",
            "Epoch 3/20\n",
            "73/73 [==============================] - 0s 6ms/step - loss: 0.5807 - accuracy: 0.7470 - val_loss: 0.5651 - val_accuracy: 0.7252\n",
            "Epoch 4/20\n",
            "73/73 [==============================] - 1s 7ms/step - loss: 0.5388 - accuracy: 0.7842 - val_loss: 0.5171 - val_accuracy: 0.8092\n",
            "Epoch 5/20\n",
            "73/73 [==============================] - 1s 7ms/step - loss: 0.4983 - accuracy: 0.8080 - val_loss: 0.4923 - val_accuracy: 0.8168\n",
            "Epoch 6/20\n",
            "73/73 [==============================] - 0s 6ms/step - loss: 0.4623 - accuracy: 0.8441 - val_loss: 0.4512 - val_accuracy: 0.8492\n",
            "Epoch 7/20\n",
            "73/73 [==============================] - 0s 6ms/step - loss: 0.4324 - accuracy: 0.8517 - val_loss: 0.4252 - val_accuracy: 0.8683\n",
            "Epoch 8/20\n",
            "73/73 [==============================] - 0s 6ms/step - loss: 0.4056 - accuracy: 0.8694 - val_loss: 0.3993 - val_accuracy: 0.8740\n",
            "Epoch 9/20\n",
            "73/73 [==============================] - 0s 6ms/step - loss: 0.3848 - accuracy: 0.8764 - val_loss: 0.3821 - val_accuracy: 0.8874\n",
            "Epoch 10/20\n",
            "73/73 [==============================] - 0s 6ms/step - loss: 0.3630 - accuracy: 0.8902 - val_loss: 0.3616 - val_accuracy: 0.8893\n",
            "Epoch 11/20\n",
            "73/73 [==============================] - 0s 6ms/step - loss: 0.3488 - accuracy: 0.8893 - val_loss: 0.3337 - val_accuracy: 0.9141\n",
            "Epoch 12/20\n",
            "73/73 [==============================] - 0s 6ms/step - loss: 0.3303 - accuracy: 0.8949 - val_loss: 0.3239 - val_accuracy: 0.9008\n",
            "Epoch 13/20\n",
            "73/73 [==============================] - 0s 6ms/step - loss: 0.3133 - accuracy: 0.9034 - val_loss: 0.3074 - val_accuracy: 0.9141\n",
            "Epoch 14/20\n",
            "73/73 [==============================] - 0s 6ms/step - loss: 0.3045 - accuracy: 0.9048 - val_loss: 0.3080 - val_accuracy: 0.9103\n",
            "Epoch 15/20\n",
            "73/73 [==============================] - 0s 6ms/step - loss: 0.2891 - accuracy: 0.9102 - val_loss: 0.2913 - val_accuracy: 0.9160\n",
            "Epoch 16/20\n",
            "73/73 [==============================] - 0s 6ms/step - loss: 0.2806 - accuracy: 0.9112 - val_loss: 0.2691 - val_accuracy: 0.9160\n",
            "Epoch 17/20\n",
            "73/73 [==============================] - 0s 6ms/step - loss: 0.2719 - accuracy: 0.9144 - val_loss: 0.2715 - val_accuracy: 0.9275\n",
            "Epoch 18/20\n",
            "73/73 [==============================] - 1s 7ms/step - loss: 0.2621 - accuracy: 0.9155 - val_loss: 0.2610 - val_accuracy: 0.9237\n",
            "Epoch 19/20\n",
            "73/73 [==============================] - 0s 7ms/step - loss: 0.2570 - accuracy: 0.9176 - val_loss: 0.2548 - val_accuracy: 0.9218\n",
            "Epoch 20/20\n",
            "73/73 [==============================] - 0s 6ms/step - loss: 0.2514 - accuracy: 0.9150 - val_loss: 0.2495 - val_accuracy: 0.9218\n"
          ]
        }
      ]
    },
    {
      "cell_type": "code",
      "source": [
        "denseModel.evaluate(test_x, test_y)"
      ],
      "metadata": {
        "colab": {
          "base_uri": "https://localhost:8080/"
        },
        "outputId": "76c6b268-32ba-457a-beb5-6651e1ef4a3b",
        "id": "8VLCDCjHPDP5"
      },
      "execution_count": 48,
      "outputs": [
        {
          "output_type": "stream",
          "name": "stdout",
          "text": [
            "20/20 [==============================] - 0s 2ms/step - loss: 167.7960 - accuracy: 0.6250\n"
          ]
        },
        {
          "output_type": "execute_result",
          "data": {
            "text/plain": [
              "[167.79603576660156, 0.625]"
            ]
          },
          "metadata": {},
          "execution_count": 48
        }
      ]
    },
    {
      "cell_type": "markdown",
      "metadata": {
        "id": "G2Wg26sHSpsH"
      },
      "source": [
        "## Plot Learning Curves Q2\n",
        "This is where we visualise the training of the model."
      ]
    },
    {
      "cell_type": "code",
      "metadata": {
        "colab": {
          "base_uri": "https://localhost:8080/",
          "height": 295
        },
        "outputId": "491d345d-1df4-42e8-f07f-55c623527b0e",
        "id": "9lz1j6RlSpsH"
      },
      "source": [
        "# Plots the training and validation accuracy over the number of epochs.\n",
        "plt.plot(history.history['accuracy'])\n",
        "plt.plot(history.history['val_accuracy'])\n",
        "plt.title('Model Accuracy')\n",
        "plt.ylabel('Accuracy')\n",
        "plt.xlabel('Epoch')\n",
        "plt.legend(['Train', 'Validation'], loc='lower right')\n",
        "plt.show()"
      ],
      "execution_count": 49,
      "outputs": [
        {
          "output_type": "display_data",
          "data": {
            "text/plain": [
              "<Figure size 432x288 with 1 Axes>"
            ],
            "image/png": "[encoded data removed]"
          },
          "metadata": {
            "needs_background": "light"
          }
        }
      ]
    },
    {
      "cell_type": "code",
      "metadata": {
        "colab": {
          "base_uri": "https://localhost:8080/",
          "height": 295
        },
        "outputId": "c49d2ecc-561b-459a-e59c-8e5b6b39db20",
        "id": "8wNPf_teSpsI"
      },
      "source": [
        "# Plots the training and validation loss over the number of epochs.\n",
        "plt.plot(history.history['loss'])\n",
        "plt.plot(history.history['val_loss'])\n",
        "plt.title('Model Loss')\n",
        "plt.ylabel('Loss')\n",
        "plt.xlabel('Epoch')\n",
        "plt.legend(['Train', 'Validation'], loc='upper right')\n",
        "plt.show()"
      ],
      "execution_count": 50,
      "outputs": [
        {
          "output_type": "display_data",
          "data": {
            "text/plain": [
              "<Figure size 432x288 with 1 Axes>"
            ],
            "image/png": "[encoded data removed]"
          },
          "metadata": {
            "needs_background": "light"
          }
        }
      ]
    },
    {
      "cell_type": "markdown",
      "metadata": {
        "id": "F2NQUkTxODpG"
      },
      "source": [
        "## Data Processing Q3\n",
        "In this section we will create a data loader for algorithm that will dynamiclly load and augment the data when needed."
      ]
    },
    {
      "cell_type": "code",
      "metadata": {
        "id": "YU29yiJtODpG"
      },
      "source": [
        "# Defines the data generator that will be used to augment the images as they are loaded.\n",
        "data_generator = ImageDataGenerator(featurewise_center=True,\n",
        "                                    featurewise_std_normalization=True,\n",
        "                                    horizontal_flip=True, \n",
        "                                    vertical_flip=True,\n",
        "                                    rotation_range=90,\n",
        "                                    width_shift_range=0.1,\n",
        "                                    height_shift_range=0.2,\n",
        "                                    zoom_range=0.1,\n",
        "                                    )\n"
      ],
      "execution_count": 16,
      "outputs": []
    },
    {
      "cell_type": "code",
      "source": [
        "# We pick one image to \"augment\"\n",
        "x = preprocessing.image.img_to_array(train_x[10])\n",
        "\n",
        "# Reshape it to (1, 150, 150, 3)\n",
        "x = x.reshape((1,) + x.shape)\n",
        "\n",
        "# The .flow() command below generates batches of randomly transformed images.\n",
        "# It will loop indefinitely, so we need to `break` the loop at some point!\n",
        "i = 0\n",
        "for batch in data_generator.flow(x, batch_size=1):\n",
        "    plt.figure(i)\n",
        "    imgplot = plt.imshow(preprocessing.image.array_to_img(batch[0]))\n",
        "    i += 1\n",
        "    if i % 4 == 0:\n",
        "        break\n",
        "\n",
        "plt.show()"
      ],
      "metadata": {
        "id": "aFQeMgGSeHPZ",
        "colab": {
          "base_uri": "https://localhost:8080/",
          "height": 1000
        },
        "outputId": "a9a6857a-59be-4587-abc9-c1f7f668c504"
      },
      "execution_count": 17,
      "outputs": [
        {
          "output_type": "stream",
          "name": "stderr",
          "text": [
            "/usr/local/lib/python3.7/dist-packages/keras_preprocessing/image/image_data_generator.py:720: UserWarning: This ImageDataGenerator specifies `featurewise_center`, but it hasn't been fit on any training data. Fit it first by calling `.fit(numpy_data)`.\n",
            "  warnings.warn('This ImageDataGenerator specifies '\n",
            "/usr/local/lib/python3.7/dist-packages/keras_preprocessing/image/image_data_generator.py:728: UserWarning: This ImageDataGenerator specifies `featurewise_std_normalization`, but it hasn't been fit on any training data. Fit it first by calling `.fit(numpy_data)`.\n",
            "  warnings.warn('This ImageDataGenerator specifies '\n"
          ]
        },
        {
          "output_type": "display_data",
          "data": {
            "text/plain": [
              "<Figure size 432x288 with 1 Axes>"
            ],
            "image/png": "[encoded data removed]"
          },
          "metadata": {
            "needs_background": "light"
          }
        },
        {
          "output_type": "display_data",
          "data": {
            "text/plain": [
              "<Figure size 432x288 with 1 Axes>"
            ],
            "image/png": "[encoded data removed]"
          },
          "metadata": {
            "needs_background": "light"
          }
        },
        {
          "output_type": "display_data",
          "data": {
            "text/plain": [
              "<Figure size 432x288 with 1 Axes>"
            ],
            "image/png": "[encoded data removed]"
          },
          "metadata": {
            "needs_background": "light"
          }
        },
        {
          "output_type": "display_data",
          "data": {
            "text/plain": [
              "<Figure size 432x288 with 1 Axes>"
            ],
            "image/png": "[encoded data removed]"
          },
          "metadata": {
            "needs_background": "light"
          }
        }
      ]
    },
    {
      "cell_type": "code",
      "metadata": {
        "id": "Lrjm57nTODpH"
      },
      "source": [
        "data_generator.fit(np.append(train_x, val_x, 0))"
      ],
      "execution_count": 18,
      "outputs": []
    },
    {
      "cell_type": "markdown",
      "metadata": {
        "id": "lhlmzkBvUoro"
      },
      "source": [
        "## Model Definition Q3\n",
        "In this section we will define the neural network arcitecture.\n",
        "\n",
        "A deep network of your own design, incorporating design techniques and regularisation methods\n",
        "you have learned about. You should use data augmentation. Try to achieve a good performance on\n",
        "the test data"
      ]
    },
    {
      "cell_type": "code",
      "source": [
        "# Define the input layer of the model with the size of an image.\n",
        "input = layers.Input(shape=train_x[0].shape)\n",
        "\n",
        "# Defines the first convolutional layer with max pooling.\n",
        "conv_1 = layers.Conv2D(filters=64, kernel_size=2, activation=\"relu\",padding=\"same\")(input)\n",
        "pool_1 = layers.MaxPool2D(pool_size=(2, 2))(conv_1)\n",
        "\n",
        "# Defines the second convolutional layer with max pooling.\n",
        "conv_2 = layers.Conv2D(filters=128, kernel_size=2, activation=\"relu\",padding=\"same\")(pool_1)\n",
        "pool_2 = layers.MaxPool2D(pool_size=(2, 2))(conv_2)\n",
        "\n",
        "# Defines the second convolutional layer with max pooling.\n",
        "conv_3 = layers.Conv2D(filters=256, kernel_size=2, activation=\"relu\",padding=\"same\")(pool_2)\n",
        "pool_3 = layers.MaxPool2D(pool_size=(2, 2))(conv_3)\n",
        "\n",
        "# Defines the second convolutional layer with max pooling.\n",
        "dropout2 = layers.Dropout(0.2)(pool_3)\n",
        "conv_4 = layers.Conv2D(filters=128, kernel_size=2, activation=\"relu\",padding=\"same\")(dropout2)\n",
        "pool_4 = layers.MaxPool2D(pool_size=(2, 2))(conv_4)\n",
        "\n",
        "# Flattens the outputs of the convolutoonal layers into a one dimensional array.\n",
        "# drop = layers.Dropout(0.2)(pool_4)\n",
        "flatten = layers.Flatten()(pool_3)\n",
        "\n",
        "# Defines the output layer of the model a number of output nodes equal to the number of classes.\n",
        "# output = layers.Dense(units=len(np.unique(train_y)), activation=\"softmax\")(flatten)\n",
        "dense1 = layers.Dense(64, activation='relu')(flatten)\n",
        "dropout1 = layers.Dropout(0.2)(dense1)\n",
        "dense2 = layers.Dense(32, activation='relu')(dropout1)\n",
        "dropout3 = layers.Dropout(0.2)(dense2)\n",
        "output = layers.Dense(units=len(np.unique(train_y)), activation=\"sigmoid\")(dropout3)\n",
        "# output = layers.Dense(units=1, activation=\"sigmoid\")(dense1)\n",
        "\n",
        "# Initilises the defined model and prints summary of the model.\n",
        "modelCustom = Model(inputs=input, outputs=output, name=\"Model\")\n",
        "modelCustom.summary()"
      ],
      "metadata": {
        "colab": {
          "base_uri": "https://localhost:8080/"
        },
        "outputId": "44463430-45da-4433-fa05-907ab4f2b409",
        "id": "fN89yEX9Uorp"
      },
      "execution_count": 19,
      "outputs": [
        {
          "output_type": "stream",
          "name": "stdout",
          "text": [
            "Model: \"Model\"\n",
            "_________________________________________________________________\n",
            " Layer (type)                Output Shape              Param #   \n",
            "=================================================================\n",
            " input_2 (InputLayer)        [(None, 28, 28, 1)]       0         \n",
            "                                                                 \n",
            " conv2d_2 (Conv2D)           (None, 28, 28, 64)        320       \n",
            "                                                                 \n",
            " max_pooling2d_2 (MaxPooling  (None, 14, 14, 64)       0         \n",
            " 2D)                                                             \n",
            "                                                                 \n",
            " conv2d_3 (Conv2D)           (None, 14, 14, 128)       32896     \n",
            "                                                                 \n",
            " max_pooling2d_3 (MaxPooling  (None, 7, 7, 128)        0         \n",
            " 2D)                                                             \n",
            "                                                                 \n",
            " conv2d_4 (Conv2D)           (None, 7, 7, 256)         131328    \n",
            "                                                                 \n",
            " max_pooling2d_4 (MaxPooling  (None, 3, 3, 256)        0         \n",
            " 2D)                                                             \n",
            "                                                                 \n",
            " flatten_1 (Flatten)         (None, 2304)              0         \n",
            "                                                                 \n",
            " dense_1 (Dense)             (None, 64)                147520    \n",
            "                                                                 \n",
            " dropout_1 (Dropout)         (None, 64)                0         \n",
            "                                                                 \n",
            " dense_2 (Dense)             (None, 32)                2080      \n",
            "                                                                 \n",
            " dropout_2 (Dropout)         (None, 32)                0         \n",
            "                                                                 \n",
            " dense_3 (Dense)             (None, 2)                 66        \n",
            "                                                                 \n",
            "=================================================================\n",
            "Total params: 314,210\n",
            "Trainable params: 314,210\n",
            "Non-trainable params: 0\n",
            "_________________________________________________________________\n"
          ]
        }
      ]
    },
    {
      "cell_type": "markdown",
      "metadata": {
        "id": "9QjpeJscUorp"
      },
      "source": [
        "## Model Training Q3\n",
        "This is where we define the training options and then train the model.\n"
      ]
    },
    {
      "cell_type": "code",
      "metadata": {
        "id": "vRi3nQb_Uorp"
      },
      "source": [
        "# Defines the parameters used during training.\n",
        "BATCH_SIZE = 40\n",
        "NUM_EPOCHS = 15\n",
        "LEARNING_RATE = 0.001"
      ],
      "execution_count": 20,
      "outputs": []
    },
    {
      "cell_type": "code",
      "metadata": {
        "id": "hQM6ACNqUorp"
      },
      "source": [
        "# Defines the optimiser used to adjust the model weights and compiles the model.\n",
        "optimiser = SGD(learning_rate=LEARNING_RATE)\n",
        "modelCustom.compile(optimizer=optimiser, loss=\"binary_crossentropy\", metrics=[\"accuracy\"])"
      ],
      "execution_count": 21,
      "outputs": []
    },
    {
      "cell_type": "code",
      "metadata": {
        "colab": {
          "base_uri": "https://localhost:8080/"
        },
        "outputId": "51dfa95b-bfdf-4f4b-c9ab-ae4ee7a70aa5",
        "id": "BgIGBdYiUorq"
      },
      "source": [
        "# We use the data generator to pass the training and validation data to the model to train it.\n",
        "history = modelCustom.fit(data_generator.flow(train_x, to_categorical(train_y), batch_size=BATCH_SIZE), \n",
        "                    # steps_per_epoch=len(train_x) / BATCH_SIZE,\n",
        "                    validation_data=data_generator.flow(val_x, to_categorical(val_y), batch_size=BATCH_SIZE),\n",
        "                    validation_steps=len(val_x) / BATCH_SIZE,\n",
        "                    epochs=NUM_EPOCHS)"
      ],
      "execution_count": 22,
      "outputs": [
        {
          "output_type": "stream",
          "name": "stdout",
          "text": [
            "Epoch 1/15\n",
            "118/118 [==============================] - 17s 117ms/step - loss: 0.6971 - accuracy: 0.4420 - val_loss: 0.6878 - val_accuracy: 0.7271\n",
            "Epoch 2/15\n",
            "118/118 [==============================] - 13s 114ms/step - loss: 0.6830 - accuracy: 0.7099 - val_loss: 0.6766 - val_accuracy: 0.7424\n",
            "Epoch 3/15\n",
            "118/118 [==============================] - 13s 113ms/step - loss: 0.6732 - accuracy: 0.7396 - val_loss: 0.6678 - val_accuracy: 0.7424\n",
            "Epoch 4/15\n",
            "118/118 [==============================] - 13s 113ms/step - loss: 0.6652 - accuracy: 0.7415 - val_loss: 0.6591 - val_accuracy: 0.7424\n",
            "Epoch 5/15\n",
            "118/118 [==============================] - 14s 122ms/step - loss: 0.6576 - accuracy: 0.7424 - val_loss: 0.6523 - val_accuracy: 0.7424\n",
            "Epoch 6/15\n",
            "118/118 [==============================] - 13s 113ms/step - loss: 0.6504 - accuracy: 0.7421 - val_loss: 0.6456 - val_accuracy: 0.7424\n",
            "Epoch 7/15\n",
            "118/118 [==============================] - 13s 113ms/step - loss: 0.6427 - accuracy: 0.7421 - val_loss: 0.6385 - val_accuracy: 0.7424\n",
            "Epoch 8/15\n",
            "118/118 [==============================] - 13s 113ms/step - loss: 0.6369 - accuracy: 0.7421 - val_loss: 0.6320 - val_accuracy: 0.7424\n",
            "Epoch 9/15\n",
            "118/118 [==============================] - 13s 114ms/step - loss: 0.6312 - accuracy: 0.7421 - val_loss: 0.6262 - val_accuracy: 0.7424\n",
            "Epoch 10/15\n",
            "118/118 [==============================] - 13s 113ms/step - loss: 0.6252 - accuracy: 0.7421 - val_loss: 0.6202 - val_accuracy: 0.7424\n",
            "Epoch 11/15\n",
            "118/118 [==============================] - 13s 114ms/step - loss: 0.6203 - accuracy: 0.7421 - val_loss: 0.6154 - val_accuracy: 0.7424\n",
            "Epoch 12/15\n",
            "118/118 [==============================] - 13s 113ms/step - loss: 0.6165 - accuracy: 0.7421 - val_loss: 0.6108 - val_accuracy: 0.7424\n",
            "Epoch 13/15\n",
            "118/118 [==============================] - 13s 113ms/step - loss: 0.6135 - accuracy: 0.7421 - val_loss: 0.6078 - val_accuracy: 0.7424\n",
            "Epoch 14/15\n",
            "118/118 [==============================] - 13s 114ms/step - loss: 0.6098 - accuracy: 0.7421 - val_loss: 0.6049 - val_accuracy: 0.7424\n",
            "Epoch 15/15\n",
            "118/118 [==============================] - 13s 113ms/step - loss: 0.6056 - accuracy: 0.7421 - val_loss: 0.6016 - val_accuracy: 0.7424\n"
          ]
        }
      ]
    },
    {
      "cell_type": "code",
      "source": [
        "modelCustom.evaluate(test_x, test_y)"
      ],
      "metadata": {
        "colab": {
          "base_uri": "https://localhost:8080/"
        },
        "outputId": "64d5cf5d-530c-4f84-dae3-a62a71fcc050",
        "id": "LukTxMAqR6Dm"
      },
      "execution_count": 85,
      "outputs": [
        {
          "output_type": "stream",
          "name": "stdout",
          "text": [
            "20/20 [==============================] - 1s 33ms/step - loss: 0.3879 - accuracy: 0.8478\n"
          ]
        },
        {
          "output_type": "execute_result",
          "data": {
            "text/plain": [
              "[0.38789114356040955, 0.8477563858032227]"
            ]
          },
          "metadata": {},
          "execution_count": 85
        }
      ]
    },
    {
      "cell_type": "code",
      "source": [
        "modelCustom.evaluate(test_x, test_y)"
      ],
      "metadata": {
        "colab": {
          "base_uri": "https://localhost:8080/"
        },
        "id": "fTwp2xwPpRtQ",
        "outputId": "fda5bef8-853a-4943-f261-0e3cf2751e79"
      },
      "execution_count": 91,
      "outputs": [
        {
          "output_type": "stream",
          "name": "stdout",
          "text": [
            "20/20 [==============================] - 1s 29ms/step - loss: 0.5630 - accuracy: 0.6506\n"
          ]
        },
        {
          "output_type": "execute_result",
          "data": {
            "text/plain": [
              "[0.5630245804786682, 0.6506410241127014]"
            ]
          },
          "metadata": {},
          "execution_count": 91
        }
      ]
    },
    {
      "cell_type": "code",
      "source": [
        "test_x = test_x[...,np.newaxis]"
      ],
      "metadata": {
        "id": "mHv7mr2jguiM"
      },
      "execution_count": 50,
      "outputs": []
    },
    {
      "cell_type": "markdown",
      "metadata": {
        "id": "dM0EPb_-Uorq"
      },
      "source": [
        "## Plot Learning Curves Q3\n",
        "This is where we visualise the training of the model."
      ]
    },
    {
      "cell_type": "code",
      "metadata": {
        "colab": {
          "base_uri": "https://localhost:8080/",
          "height": 295
        },
        "outputId": "5eb7d64d-217a-43f4-df77-0390d6498d64",
        "id": "yj7LTwIKUorq"
      },
      "source": [
        "# Plots the training and validation accuracy over the number of epochs.\n",
        "plt.plot(history.history['accuracy'])\n",
        "plt.plot(history.history['val_accuracy'])\n",
        "plt.title('Model Accuracy')\n",
        "plt.ylabel('Accuracy')\n",
        "plt.xlabel('Epoch')\n",
        "plt.legend(['Train', 'Validation'], loc='lower right')\n",
        "plt.show()"
      ],
      "execution_count": 86,
      "outputs": [
        {
          "output_type": "display_data",
          "data": {
            "text/plain": [
              "<Figure size 432x288 with 1 Axes>"
            ],
            "image/png": "[encoded data removed]"
          },
          "metadata": {
            "needs_background": "light"
          }
        }
      ]
    },
    {
      "cell_type": "code",
      "metadata": {
        "colab": {
          "base_uri": "https://localhost:8080/",
          "height": 295
        },
        "outputId": "6fe86ab6-adc1-4d31-e42a-747771279306",
        "id": "PjeIARrPUorq"
      },
      "source": [
        "# Plots the training and validation loss over the number of epochs.\n",
        "plt.plot(history.history['loss'])\n",
        "plt.plot(history.history['val_loss'])\n",
        "plt.title('Model Loss')\n",
        "plt.ylabel('Loss')\n",
        "plt.xlabel('Epoch')\n",
        "plt.legend(['Train', 'Validation'], loc='upper right')\n",
        "plt.show()"
      ],
      "execution_count": 87,
      "outputs": [
        {
          "output_type": "display_data",
          "data": {
            "text/plain": [
              "<Figure size 432x288 with 1 Axes>"
            ],
            "image/png": "[encoded data removed]"
          },
          "metadata": {
            "needs_background": "light"
          }
        }
      ]
    },
    {
      "cell_type": "markdown",
      "source": [
        "### Comparing All 3 Models for Multiclass Classification\n",
        "\n"
      ],
      "metadata": {
        "id": "hsENFpUWRqyF"
      }
    },
    {
      "cell_type": "markdown",
      "source": [
        "###The Conclusion, Graph and data comparison is in attached word file. \n",
        "\n"
      ],
      "metadata": {
        "id": "GYnKbj0Eby2J"
      }
    }
  ]
}