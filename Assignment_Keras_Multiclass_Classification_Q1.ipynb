{
  "nbformat": 4,
  "nbformat_minor": 0,
  "metadata": {
    "colab": {
      "name": "Assignment_Keras_Multiclass_Classification Q1.ipynb",
      "provenance": [],
      "collapsed_sections": []
    },
    "kernelspec": {
      "name": "python3",
      "display_name": "Python 3"
    },
    "accelerator": "GPU"
  },
  "cells": [
    {
      "cell_type": "markdown",
      "metadata": {
        "id": "JKbgFz4AhYvK"
      },
      "source": [
        "# Deep Learning Medical Image Analysis for Multiclass Classification\n",
        "A simple convolutional neural network model trained using a Dermatoscope(DermaMNIST) image dataset.\n",
        "\n",
        "#### Dataset Description\n",
        "The DermaMNIST is based on the HAM10000, a large collection of multi-source dermatoscopic images of common pigmented skin lesions. The dataset consists of 10,015 dermatoscopic images categorized as 7 different diseases, formulized as a multi-class classification task.\n",
        "\n",
        "We split the images into training, validation and test set with a ratio of 7:1:2. The source images of 3×600×450 are resized into 3×28×28.\n",
        "\n",
        "#### Dataset Labels:\n",
        "'0': 'actinic keratoses and intraepithelial carcinoma',\n",
        "'1': 'basal cell carcinoma',\n",
        "'2': 'benign keratosis-like lesions',\n",
        "'3': 'dermatofibroma',\n",
        "'4': 'melanoma',\n",
        "'5': 'melanocytic nevi',\n",
        "'6': 'vascular lesions'"
      ]
    },
    {
      "cell_type": "markdown",
      "metadata": {
        "id": "LICWjsiH5Ysh"
      },
      "source": [
        "## Python Imports\n",
        "This section will load the necessary python packages to the instance."
      ]
    },
    {
      "cell_type": "code",
      "metadata": {
        "id": "4r14DjPX5XAT"
      },
      "source": [
        "# Built-in Imports\n",
        "import random"
      ],
      "execution_count": 1,
      "outputs": []
    },
    {
      "cell_type": "code",
      "metadata": {
        "id": "_9akxJOL576W"
      },
      "source": [
        "# Library Imports\n",
        "import numpy as np\n",
        "import pandas as pd\n",
        "import matplotlib.pyplot as plt\n",
        "from sklearn.metrics import classification_report, confusion_matrix, ConfusionMatrixDisplay"
      ],
      "execution_count": 2,
      "outputs": []
    },
    {
      "cell_type": "code",
      "metadata": {
        "id": "PPushucynmye"
      },
      "source": [
        "# Keras Imports\n",
        "from tensorflow.keras import layers,utils,preprocessing\n",
        "from tensorflow.keras.models import Model\n",
        "from tensorflow.keras.optimizers import SGD\n",
        "from tensorflow.keras.utils import get_file, to_categorical\n",
        "from tensorflow.keras.preprocessing.image import ImageDataGenerator"
      ],
      "execution_count": 30,
      "outputs": []
    },
    {
      "cell_type": "markdown",
      "metadata": {
        "id": "UfG7LUYZz6I2"
      },
      "source": [
        "## Dataset Downloader\n",
        "This section will download the selected [MedMNIST](https://medmnist.github.io/) dataset as a NumPy array object to your Google Colab instance. \n",
        "\n",
        "To change the dataset that will download just change the variable DATA_NAME to desired dataset name."
      ]
    },
    {
      "cell_type": "code",
      "metadata": {
        "id": "WFsupyTxnHgN"
      },
      "source": [
        "DATA_NAME = \"DermaMNIST\""
      ],
      "execution_count": 4,
      "outputs": []
    },
    {
      "cell_type": "code",
      "metadata": {
        "colab": {
          "base_uri": "https://localhost:8080/"
        },
        "id": "vrpiQg5VkbsL",
        "outputId": "008e9cac-7c6e-49ec-f75c-771993e75613"
      },
      "source": [
        "!wget https://raw.githubusercontent.com/MedMNIST/MedMNIST/main/medmnist/info.py\n",
        "from info import INFO\n",
        "data = INFO[DATA_NAME.lower()]"
      ],
      "execution_count": 5,
      "outputs": [
        {
          "output_type": "stream",
          "name": "stdout",
          "text": [
            "--2022-04-08 20:41:39--  https://raw.githubusercontent.com/MedMNIST/MedMNIST/main/medmnist/info.py\n",
            "Resolving raw.githubusercontent.com (raw.githubusercontent.com)... 185.199.109.133, 185.199.108.133, 185.199.111.133, ...\n",
            "Connecting to raw.githubusercontent.com (raw.githubusercontent.com)|185.199.109.133|:443... connected.\n",
            "HTTP request sent, awaiting response... 200 OK\n",
            "Length: 22843 (22K) [text/plain]\n",
            "Saving to: ‘info.py’\n",
            "\n",
            "\rinfo.py               0%[                    ]       0  --.-KB/s               \rinfo.py             100%[===================>]  22.31K  --.-KB/s    in 0s      \n",
            "\n",
            "2022-04-08 20:41:39 (65.0 MB/s) - ‘info.py’ saved [22843/22843]\n",
            "\n"
          ]
        }
      ]
    },
    {
      "cell_type": "code",
      "metadata": {
        "id": "nbCWsdDP0ECH",
        "colab": {
          "base_uri": "https://localhost:8080/"
        },
        "outputId": "82168eaf-083e-471f-9168-90153d8419ed"
      },
      "source": [
        "# Downloads the dataset file hosted on Zenodo.\n",
        "file_path = get_file(fname=\"dataset.npz\", \n",
        "                     origin=data[\"url\"], \n",
        "                     md5_hash=data[\"MD5\"])"
      ],
      "execution_count": 6,
      "outputs": [
        {
          "output_type": "stream",
          "name": "stdout",
          "text": [
            "Downloading data from https://zenodo.org/record/5208230/files/dermamnist.npz?download=1\n",
            "19726336/19725078 [==============================] - 1s 0us/step\n",
            "19734528/19725078 [==============================] - 1s 0us/step\n"
          ]
        }
      ]
    },
    {
      "cell_type": "code",
      "source": [
        "# Data Information\n",
        "data"
      ],
      "metadata": {
        "colab": {
          "base_uri": "https://localhost:8080/"
        },
        "id": "lnQH2F__Ojcx",
        "outputId": "6a1519e8-b5c4-4781-94ce-b0ab97642254"
      },
      "execution_count": 7,
      "outputs": [
        {
          "output_type": "execute_result",
          "data": {
            "text/plain": [
              "{'MD5': '0744692d530f8e62ec473284d019b0c7',\n",
              " 'description': 'The DermaMNIST is based on the HAM10000, a large collection of multi-source dermatoscopic images of common pigmented skin lesions. The dataset consists of 10,015 dermatoscopic images categorized as 7 different diseases, formulized as a multi-class classification task. We split the images into training, validation and test set with a ratio of 7:1:2. The source images of 3×600×450 are resized into 3×28×28.',\n",
              " 'label': {'0': 'actinic keratoses and intraepithelial carcinoma',\n",
              "  '1': 'basal cell carcinoma',\n",
              "  '2': 'benign keratosis-like lesions',\n",
              "  '3': 'dermatofibroma',\n",
              "  '4': 'melanoma',\n",
              "  '5': 'melanocytic nevi',\n",
              "  '6': 'vascular lesions'},\n",
              " 'license': 'CC BY-NC 4.0',\n",
              " 'n_channels': 3,\n",
              " 'n_samples': {'test': 2005, 'train': 7007, 'val': 1003},\n",
              " 'python_class': 'DermaMNIST',\n",
              " 'task': 'multi-class',\n",
              " 'url': 'https://zenodo.org/record/5208230/files/dermamnist.npz?download=1'}"
            ]
          },
          "metadata": {},
          "execution_count": 7
        }
      ]
    },
    {
      "cell_type": "code",
      "metadata": {
        "id": "GFPDZJZJ6o_T"
      },
      "source": [
        "# Loads the downloaded NumPy object.\n",
        "dataset = np.load(file_path)\n",
        "\n",
        "# Gets the training images and labels from the NumPy object.\n",
        "train_x = dataset[\"train_images\"]\n",
        "train_y = dataset[\"train_labels\"]\n",
        "\n",
        "# Gets the validation images and labels from the NumPy object.\n",
        "val_x = dataset[\"val_images\"]\n",
        "val_y = dataset[\"val_labels\"]\n",
        "\n",
        "# Gets the testing images and labels from the NumPy object.\n",
        "test_x = dataset[\"test_images\"]\n",
        "test_y = dataset[\"test_labels\"]"
      ],
      "execution_count": 8,
      "outputs": []
    },
    {
      "cell_type": "code",
      "source": [
        "train_x.shape,train_y.shape,val_x.shape,test_x.shape"
      ],
      "metadata": {
        "colab": {
          "base_uri": "https://localhost:8080/"
        },
        "id": "pjV3DFhHQZs4",
        "outputId": "80d033b1-2c75-4a9b-a217-01fb7f60fefb"
      },
      "execution_count": 8,
      "outputs": [
        {
          "output_type": "execute_result",
          "data": {
            "text/plain": [
              "((7007, 28, 28, 3), (7007, 1), (1003, 28, 28, 3), (2005, 28, 28, 3))"
            ]
          },
          "metadata": {},
          "execution_count": 8
        }
      ]
    },
    {
      "cell_type": "code",
      "source": [
        "plt.imshow(train_x[100])\n",
        "list(data[\"label\"].values()) + [\"total\"]"
      ],
      "metadata": {
        "colab": {
          "base_uri": "https://localhost:8080/",
          "height": 404
        },
        "id": "UGI-u9wmQ4Iw",
        "outputId": "72bac2d2-ba97-41c2-a52d-343e95039490"
      },
      "execution_count": 9,
      "outputs": [
        {
          "output_type": "execute_result",
          "data": {
            "text/plain": [
              "['actinic keratoses and intraepithelial carcinoma',\n",
              " 'basal cell carcinoma',\n",
              " 'benign keratosis-like lesions',\n",
              " 'dermatofibroma',\n",
              " 'melanoma',\n",
              " 'melanocytic nevi',\n",
              " 'vascular lesions',\n",
              " 'total']"
            ]
          },
          "metadata": {},
          "execution_count": 9
        },
        {
          "output_type": "display_data",
          "data": {
            "text/plain": [
              "<Figure size 432x288 with 1 Axes>"
            ],
            "image/png": "[encoded data removed]"
          },
          "metadata": {
            "needs_background": "light"
          }
        }
      ]
    },
    {
      "cell_type": "markdown",
      "metadata": {
        "id": "TRN-KCObfI18"
      },
      "source": [
        "## Data Exploration\n",
        "In this section we have a look at our data, their distributions to see if it is ready to be used within our machine learning algorithm."
      ]
    },
    {
      "cell_type": "code",
      "metadata": {
        "colab": {
          "base_uri": "https://localhost:8080/"
        },
        "id": "gMAxCIw3-JOW",
        "outputId": "1800dc37-2cd1-4ea1-8c52-aa038f0cab57"
      },
      "source": [
        "# Declares a list of labels.\n",
        "labels = list(data[\"label\"].values()) + [\"total\"]\n",
        "\n",
        "# Gets the counts for each label in each of our datasets.\n",
        "_, train_counts = np.unique(train_y, return_counts=True)\n",
        "_, val_counts = np.unique(val_y, return_counts=True)\n",
        "_, test_counts = np.unique(test_y, return_counts=True)\n",
        "\n",
        "# Prints the counts for each label from each dataset.\n",
        "print(pd.DataFrame(list(zip(np.append(train_counts, [sum(train_counts)]), \n",
        "                            np.append(val_counts, [sum(val_counts)]), \n",
        "                            np.append(test_counts, [sum(test_counts)]))), \n",
        "                   index=labels, columns=[\"Train\", \"Val\", \"Test\"]))"
      ],
      "execution_count": 10,
      "outputs": [
        {
          "output_type": "stream",
          "name": "stdout",
          "text": [
            "                                                 Train   Val  Test\n",
            "actinic keratoses and intraepithelial carcinoma    228    33    66\n",
            "basal cell carcinoma                               359    52   103\n",
            "benign keratosis-like lesions                      769   110   220\n",
            "dermatofibroma                                      80    12    23\n",
            "melanoma                                           779   111   223\n",
            "melanocytic nevi                                  4693   671  1341\n",
            "vascular lesions                                    99    14    29\n",
            "total                                             7007  1003  2005\n"
          ]
        }
      ]
    },
    {
      "cell_type": "code",
      "metadata": {
        "colab": {
          "base_uri": "https://localhost:8080/",
          "height": 300
        },
        "id": "AQ4Qba5sdt_Q",
        "outputId": "2d388785-7ffa-43c1-ee0e-b10819f16421"
      },
      "source": [
        "# Displays a random image from training dataset.\n",
        "index = random.randint(0, len(train_x))\n",
        "print(f\"{index}: {labels[train_y[index][0]]}\")\n",
        "plt.imshow(train_x[random.randint(0, len(train_x))])"
      ],
      "execution_count": 11,
      "outputs": [
        {
          "output_type": "stream",
          "name": "stdout",
          "text": [
            "3614: basal cell carcinoma\n"
          ]
        },
        {
          "output_type": "execute_result",
          "data": {
            "text/plain": [
              "<matplotlib.image.AxesImage at 0x7fc902d84c10>"
            ]
          },
          "metadata": {},
          "execution_count": 11
        },
        {
          "output_type": "display_data",
          "data": {
            "text/plain": [
              "<Figure size 432x288 with 1 Axes>"
            ],
            "image/png": "[encoded data removed]"
          },
          "metadata": {
            "needs_background": "light"
          }
        }
      ]
    },
    {
      "cell_type": "markdown",
      "metadata": {
        "id": "61PPEn8Dhp_v"
      },
      "source": [
        "## Data Processing\n",
        "In this section we will create a data loader for algorithm that will dynamiclly load and augment the data when needed."
      ]
    },
    {
      "cell_type": "code",
      "metadata": {
        "id": "eKrtg2heh4tF"
      },
      "source": [
        "# Defines the data generator that will be used to augment the images as they are loaded.\n",
        "data_generator = ImageDataGenerator(featurewise_center=True,\n",
        "                                    featurewise_std_normalization=True,\n",
        "                                    horizontal_flip=True, \n",
        "                                    vertical_flip=True)"
      ],
      "execution_count": 12,
      "outputs": []
    },
    {
      "cell_type": "code",
      "metadata": {
        "id": "d5TzJV-O3nD7"
      },
      "source": [
        "# Fit the Data on Data Generator\n",
        "data_generator.fit(np.append(train_x, val_x, 0))"
      ],
      "execution_count": 13,
      "outputs": []
    },
    {
      "cell_type": "markdown",
      "metadata": {
        "id": "ptmuEdE1p9MU"
      },
      "source": [
        "## Model Definition Assn Q1\n",
        "\n",
        "#### Below is Neural Network Architecture for Assn Q1\n",
        "\n",
        "A convnet with the same architecture and training regime as in the example Colab notebook\n",
        "provided above. (You should alter the last layer and the loss function as appropriate, depending on\n",
        "the number of classes)."
      ]
    },
    {
      "cell_type": "code",
      "metadata": {
        "colab": {
          "base_uri": "https://localhost:8080/"
        },
        "id": "Ud-jcR_ZqE0V",
        "outputId": "da220af2-8454-4bd6-953c-ae58d54e84dc"
      },
      "source": [
        "# Define the input layer of the model with the size of an image.\n",
        "input = layers.Input(shape=train_x[0].shape)\n",
        "\n",
        "# Defines the first convolutional layer with max pooling.\n",
        "conv_1 = layers.Conv2D(filters=32, kernel_size=3, activation=\"relu\")(input)\n",
        "pool_1 = layers.MaxPool2D(pool_size=(2, 2))(conv_1)\n",
        "\n",
        "# Defines the second convolutional layer with max pooling.\n",
        "conv_2 = layers.Conv2D(filters=32, kernel_size=3, activation=\"relu\")(pool_1)\n",
        "pool_2 = layers.MaxPool2D(pool_size=(2, 2))(conv_2)\n",
        "\n",
        "# Flattens the outputs of the convolutoonal layers into a one dimensional array.\n",
        "flatten = layers.Flatten()(pool_2)\n",
        "\n",
        "# Defines the output layer of the model a number of output nodes equal to the number of classes.\n",
        "output = layers.Dense(units=len(np.unique(train_y)), activation=\"softmax\")(flatten)\n",
        "\n",
        "# Initilises the defined model and prints summary of the model.\n",
        "model = Model(inputs=input, outputs=output, name=\"Model\")\n",
        "model.summary()"
      ],
      "execution_count": 14,
      "outputs": [
        {
          "output_type": "stream",
          "name": "stdout",
          "text": [
            "Model: \"Model\"\n",
            "_________________________________________________________________\n",
            " Layer (type)                Output Shape              Param #   \n",
            "=================================================================\n",
            " input_1 (InputLayer)        [(None, 28, 28, 3)]       0         \n",
            "                                                                 \n",
            " conv2d (Conv2D)             (None, 26, 26, 32)        896       \n",
            "                                                                 \n",
            " max_pooling2d (MaxPooling2D  (None, 13, 13, 32)       0         \n",
            " )                                                               \n",
            "                                                                 \n",
            " conv2d_1 (Conv2D)           (None, 11, 11, 32)        9248      \n",
            "                                                                 \n",
            " max_pooling2d_1 (MaxPooling  (None, 5, 5, 32)         0         \n",
            " 2D)                                                             \n",
            "                                                                 \n",
            " flatten (Flatten)           (None, 800)               0         \n",
            "                                                                 \n",
            " dense (Dense)               (None, 7)                 5607      \n",
            "                                                                 \n",
            "=================================================================\n",
            "Total params: 15,751\n",
            "Trainable params: 15,751\n",
            "Non-trainable params: 0\n",
            "_________________________________________________________________\n"
          ]
        }
      ]
    },
    {
      "cell_type": "markdown",
      "metadata": {
        "id": "6lVJaaSFxXyY"
      },
      "source": [
        "## Model Training Assn Q1\n",
        "This is where we define the training options and then train the model.\n"
      ]
    },
    {
      "cell_type": "code",
      "metadata": {
        "id": "LmMisQ5MxXyY"
      },
      "source": [
        "# Defines the parameters used during training.\n",
        "BATCH_SIZE = 64\n",
        "NUM_EPOCHS = 10\n",
        "LEARNING_RATE = 0.001"
      ],
      "execution_count": 15,
      "outputs": []
    },
    {
      "cell_type": "code",
      "metadata": {
        "id": "xCDt_dmCxXyY"
      },
      "source": [
        "# Defines the optimiser used to adjust the model weights and compiles the model.\n",
        "optimiser = SGD(learning_rate=LEARNING_RATE)\n",
        "model.compile(optimizer=optimiser, loss=\"categorical_crossentropy\", metrics=[\"accuracy\"])"
      ],
      "execution_count": 16,
      "outputs": []
    },
    {
      "cell_type": "code",
      "metadata": {
        "colab": {
          "base_uri": "https://localhost:8080/"
        },
        "outputId": "8ea44fe5-9a44-40e8-f8e3-a99c0c13277e",
        "id": "zqgbG0UlxXyZ"
      },
      "source": [
        "# We use the data generator to pass the training and validation data to the model to train it.\n",
        "history = model.fit(data_generator.flow(train_x, to_categorical(train_y), batch_size=BATCH_SIZE), \n",
        "                    steps_per_epoch=len(train_x) / BATCH_SIZE,\n",
        "                    validation_data=data_generator.flow(val_x, to_categorical(val_y), batch_size=BATCH_SIZE),\n",
        "                    validation_steps=len(val_x) / BATCH_SIZE,\n",
        "                    epochs=NUM_EPOCHS)"
      ],
      "execution_count": 17,
      "outputs": [
        {
          "output_type": "stream",
          "name": "stdout",
          "text": [
            "Epoch 1/10\n",
            "109/109 [==============================] - 8s 69ms/step - loss: 1.3660 - accuracy: 0.5940 - val_loss: 1.1397 - val_accuracy: 0.6690\n",
            "Epoch 2/10\n",
            "109/109 [==============================] - 6s 52ms/step - loss: 1.0999 - accuracy: 0.6686 - val_loss: 1.0494 - val_accuracy: 0.6690\n",
            "Epoch 3/10\n",
            "109/109 [==============================] - 6s 55ms/step - loss: 1.0273 - accuracy: 0.6680 - val_loss: 0.9990 - val_accuracy: 0.6700\n",
            "Epoch 4/10\n",
            "109/109 [==============================] - 6s 57ms/step - loss: 0.9895 - accuracy: 0.6669 - val_loss: 0.9724 - val_accuracy: 0.6740\n",
            "Epoch 5/10\n",
            "109/109 [==============================] - 6s 56ms/step - loss: 0.9674 - accuracy: 0.6672 - val_loss: 0.9548 - val_accuracy: 0.6680\n",
            "Epoch 6/10\n",
            "109/109 [==============================] - 6s 55ms/step - loss: 0.9548 - accuracy: 0.6709 - val_loss: 0.9377 - val_accuracy: 0.6770\n",
            "Epoch 7/10\n",
            "109/109 [==============================] - 6s 54ms/step - loss: 0.9474 - accuracy: 0.6713 - val_loss: 0.9292 - val_accuracy: 0.6740\n",
            "Epoch 8/10\n",
            "109/109 [==============================] - 6s 54ms/step - loss: 0.9387 - accuracy: 0.6746 - val_loss: 0.9271 - val_accuracy: 0.6750\n",
            "Epoch 9/10\n",
            "109/109 [==============================] - 6s 54ms/step - loss: 0.9337 - accuracy: 0.6759 - val_loss: 0.9165 - val_accuracy: 0.6790\n",
            "Epoch 10/10\n",
            "109/109 [==============================] - 5s 48ms/step - loss: 0.9302 - accuracy: 0.6770 - val_loss: 0.9178 - val_accuracy: 0.6869\n"
          ]
        }
      ]
    },
    {
      "cell_type": "code",
      "source": [
        "test_x.shape,test_y.shape,train_x.shape,train_y.shape"
      ],
      "metadata": {
        "colab": {
          "base_uri": "https://localhost:8080/"
        },
        "outputId": "f724518d-df45-4b01-c9ba-c0fbcf4c5dd8",
        "id": "s0WLO2PIxXyZ"
      },
      "execution_count": 19,
      "outputs": [
        {
          "output_type": "execute_result",
          "data": {
            "text/plain": [
              "((2005, 28, 28, 3), (2005, 1), (7007, 28, 28, 3), (7007, 1))"
            ]
          },
          "metadata": {},
          "execution_count": 19
        }
      ]
    },
    {
      "cell_type": "code",
      "source": [
        "# Evaluating model on test data\n",
        "test_y = utils.to_categorical(test_y)"
      ],
      "metadata": {
        "id": "61NPxB3T6qpN"
      },
      "execution_count": 18,
      "outputs": []
    },
    {
      "cell_type": "code",
      "source": [
        "model.evaluate(test_x, test_y)"
      ],
      "metadata": {
        "colab": {
          "base_uri": "https://localhost:8080/"
        },
        "id": "FKGKEdqA6dl1",
        "outputId": "42e4c633-57c2-4112-b051-99f7b05e3f30"
      },
      "execution_count": 19,
      "outputs": [
        {
          "output_type": "stream",
          "name": "stdout",
          "text": [
            "63/63 [==============================] - 1s 10ms/step - loss: 60.9650 - accuracy: 0.6688\n"
          ]
        },
        {
          "output_type": "execute_result",
          "data": {
            "text/plain": [
              "[60.9649658203125, 0.6688279509544373]"
            ]
          },
          "metadata": {},
          "execution_count": 19
        }
      ]
    },
    {
      "cell_type": "markdown",
      "metadata": {
        "id": "8VJjp_dm0Qe_"
      },
      "source": [
        "## Plot Learning Curves Assn Q1\n",
        "This is where we visualise the training of the model."
      ]
    },
    {
      "cell_type": "code",
      "metadata": {
        "colab": {
          "base_uri": "https://localhost:8080/",
          "height": 295
        },
        "outputId": "b1fe685a-96e8-46d8-c0dd-7fa593480f40",
        "id": "8u0D9RyI0QfA"
      },
      "source": [
        "# Plots the training and validation accuracy over the number of epochs.\n",
        "plt.plot(history.history['accuracy'])\n",
        "plt.plot(history.history['val_accuracy'])\n",
        "plt.title('Model Accuracy')\n",
        "plt.ylabel('Accuracy')\n",
        "plt.xlabel('Epoch')\n",
        "plt.legend(['Train', 'Validation'], loc='lower right')\n",
        "plt.show()"
      ],
      "execution_count": 20,
      "outputs": [
        {
          "output_type": "display_data",
          "data": {
            "text/plain": [
              "<Figure size 432x288 with 1 Axes>"
            ],
            "image/png": "[encoded data removed]"
          },
          "metadata": {
            "needs_background": "light"
          }
        }
      ]
    },
    {
      "cell_type": "code",
      "metadata": {
        "colab": {
          "base_uri": "https://localhost:8080/",
          "height": 295
        },
        "outputId": "7d4dab89-dac1-431e-bcbe-a4b8da793b72",
        "id": "ZNOtdvWy0QfA"
      },
      "source": [
        "# Plots the training and validation loss over the number of epochs.\n",
        "plt.plot(history.history['loss'])\n",
        "plt.plot(history.history['val_loss'])\n",
        "plt.title('Model Loss')\n",
        "plt.ylabel('Loss')\n",
        "plt.xlabel('Epoch')\n",
        "plt.legend(['Train', 'Validation'], loc='upper right')\n",
        "plt.show()"
      ],
      "execution_count": 21,
      "outputs": [
        {
          "output_type": "display_data",
          "data": {
            "text/plain": [
              "<Figure size 432x288 with 1 Axes>"
            ],
            "image/png": "[encoded data removed]"
          },
          "metadata": {
            "needs_background": "light"
          }
        }
      ]
    },
    {
      "cell_type": "markdown",
      "metadata": {
        "id": "GdRIwvliyGmm"
      },
      "source": [
        "## Model Definition Assn Q2\n",
        "In this section we will define the neural network arcitecture.\n",
        "\n",
        "#### Below is Neural Network Architecture for Assn Q2\n",
        "\n",
        "A network with dense layers but no convolutional layers, designed to have a total number of\n",
        "parameters comparable to the convnet in 1."
      ]
    },
    {
      "cell_type": "code",
      "source": [
        "# Define the input layer of the model with the size of an image.\n",
        "input = layers.Input(shape=train_x[0].shape)\n",
        "\n",
        "# Dense Layers\n",
        "flatten = layers.Flatten()(input)\n",
        "dense1 = layers.Dense(8, activation='relu')(flatten)\n",
        "dense2 = layers.Dense(8, activation='relu')(dense1)\n",
        "# dense3 = layers.Dense(64, activation='relu')(dense2)\n",
        "\n",
        "# Defines the output layer of the model a number of output nodes equal to the number of classes.\n",
        "output = layers.Dense(units=len(np.unique(train_y)), activation=\"softmax\")(dense2)\n",
        "\n",
        "# Initilises the defined model and prints summary of the model.\n",
        "modelDense = Model(inputs=input, outputs=output, name=\"Model\")\n",
        "modelDense.summary()"
      ],
      "metadata": {
        "colab": {
          "base_uri": "https://localhost:8080/"
        },
        "id": "EyOU99sKNaFT",
        "outputId": "3f37d691-a64f-4188-c400-df7c91d24722"
      },
      "execution_count": 22,
      "outputs": [
        {
          "output_type": "stream",
          "name": "stdout",
          "text": [
            "Model: \"Model\"\n",
            "_________________________________________________________________\n",
            " Layer (type)                Output Shape              Param #   \n",
            "=================================================================\n",
            " input_2 (InputLayer)        [(None, 28, 28, 3)]       0         \n",
            "                                                                 \n",
            " flatten_1 (Flatten)         (None, 2352)              0         \n",
            "                                                                 \n",
            " dense_1 (Dense)             (None, 8)                 18824     \n",
            "                                                                 \n",
            " dense_2 (Dense)             (None, 8)                 72        \n",
            "                                                                 \n",
            " dense_3 (Dense)             (None, 7)                 63        \n",
            "                                                                 \n",
            "=================================================================\n",
            "Total params: 18,959\n",
            "Trainable params: 18,959\n",
            "Non-trainable params: 0\n",
            "_________________________________________________________________\n"
          ]
        }
      ]
    },
    {
      "cell_type": "markdown",
      "metadata": {
        "id": "SdMcAtCztO0b"
      },
      "source": [
        "## Model Training Assn Q2\n",
        "This is where we define the training options and then train the model.\n"
      ]
    },
    {
      "cell_type": "code",
      "metadata": {
        "id": "bEypwRiMuPCn"
      },
      "source": [
        "# Defines the parameters used during training.\n",
        "BATCH_SIZE = 64\n",
        "NUM_EPOCHS = 10\n",
        "LEARNING_RATE = 0.001"
      ],
      "execution_count": 23,
      "outputs": []
    },
    {
      "cell_type": "code",
      "metadata": {
        "id": "Qb9WcL7ZtPZE"
      },
      "source": [
        "# Defines the optimiser used to adjust the model weights and compiles the model.\n",
        "optimiser = SGD(learning_rate=LEARNING_RATE)\n",
        "modelDense.compile(optimizer=optimiser, loss=\"categorical_crossentropy\", metrics=[\"accuracy\"])"
      ],
      "execution_count": 24,
      "outputs": []
    },
    {
      "cell_type": "code",
      "metadata": {
        "colab": {
          "base_uri": "https://localhost:8080/"
        },
        "id": "SOy4ArHyvIhR",
        "outputId": "c1e747ac-2954-44f0-dca5-95784fac6517"
      },
      "source": [
        "# We use the data generator to pass the training and validation data to the model to train it.\n",
        "history = modelDense.fit(data_generator.flow(train_x, to_categorical(train_y), batch_size=BATCH_SIZE), \n",
        "                    steps_per_epoch=len(train_x) / BATCH_SIZE,\n",
        "                    validation_data=data_generator.flow(val_x, to_categorical(val_y), batch_size=BATCH_SIZE),\n",
        "                    validation_steps=len(val_x) / BATCH_SIZE,\n",
        "                    epochs=NUM_EPOCHS)"
      ],
      "execution_count": 25,
      "outputs": [
        {
          "output_type": "stream",
          "name": "stdout",
          "text": [
            "Epoch 1/10\n",
            "109/109 [==============================] - 1s 10ms/step - loss: 1.8346 - accuracy: 0.2674 - val_loss: 1.5695 - val_accuracy: 0.5693\n",
            "Epoch 2/10\n",
            "109/109 [==============================] - 1s 8ms/step - loss: 1.4170 - accuracy: 0.6145 - val_loss: 1.2931 - val_accuracy: 0.6421\n",
            "Epoch 3/10\n",
            "109/109 [==============================] - 1s 9ms/step - loss: 1.2423 - accuracy: 0.6496 - val_loss: 1.1832 - val_accuracy: 0.6491\n",
            "Epoch 4/10\n",
            "109/109 [==============================] - 1s 9ms/step - loss: 1.1634 - accuracy: 0.6561 - val_loss: 1.1360 - val_accuracy: 0.6520\n",
            "Epoch 5/10\n",
            "109/109 [==============================] - 1s 9ms/step - loss: 1.1197 - accuracy: 0.6638 - val_loss: 1.0988 - val_accuracy: 0.6580\n",
            "Epoch 6/10\n",
            "109/109 [==============================] - 1s 9ms/step - loss: 1.0925 - accuracy: 0.6649 - val_loss: 1.0635 - val_accuracy: 0.6630\n",
            "Epoch 7/10\n",
            "109/109 [==============================] - 1s 9ms/step - loss: 1.0686 - accuracy: 0.6665 - val_loss: 1.0585 - val_accuracy: 0.6660\n",
            "Epoch 8/10\n",
            "109/109 [==============================] - 1s 9ms/step - loss: 1.0509 - accuracy: 0.6676 - val_loss: 1.0341 - val_accuracy: 0.6660\n",
            "Epoch 9/10\n",
            "109/109 [==============================] - 1s 7ms/step - loss: 1.0329 - accuracy: 0.6696 - val_loss: 1.0127 - val_accuracy: 0.6700\n",
            "Epoch 10/10\n",
            "109/109 [==============================] - 1s 8ms/step - loss: 1.0183 - accuracy: 0.6699 - val_loss: 1.0027 - val_accuracy: 0.6750\n"
          ]
        }
      ]
    },
    {
      "cell_type": "code",
      "source": [
        "test_x.shape,test_y.shape,train_x.shape,train_y.shape"
      ],
      "metadata": {
        "colab": {
          "base_uri": "https://localhost:8080/"
        },
        "id": "41mesP7RQNMo",
        "outputId": "a11a4ea9-a45a-4299-d7d5-fc559a071977"
      },
      "execution_count": 37,
      "outputs": [
        {
          "output_type": "execute_result",
          "data": {
            "text/plain": [
              "((2005, 28, 28, 3), (2005, 1), (7007, 28, 28, 3), (7007, 1))"
            ]
          },
          "metadata": {},
          "execution_count": 37
        }
      ]
    },
    {
      "cell_type": "code",
      "source": [
        "test_x.shape,test_y.shape"
      ],
      "metadata": {
        "colab": {
          "base_uri": "https://localhost:8080/"
        },
        "id": "KOiz6qkN6HkY",
        "outputId": "55f1e645-1abd-4f43-f306-58a32462d116"
      },
      "execution_count": 47,
      "outputs": [
        {
          "output_type": "execute_result",
          "data": {
            "text/plain": [
              "((2005, 28, 28, 3), (2005, 7))"
            ]
          },
          "metadata": {},
          "execution_count": 47
        }
      ]
    },
    {
      "cell_type": "code",
      "source": [
        "# Evaluating model on test data\n",
        "test_y = utils.to_categorical(test_y)"
      ],
      "metadata": {
        "id": "xdjAPwhs5mVZ"
      },
      "execution_count": 46,
      "outputs": []
    },
    {
      "cell_type": "code",
      "source": [
        "# Test Loss and Test Accuracy\n",
        "modelDense.evaluate(test_x, test_y)"
      ],
      "metadata": {
        "colab": {
          "base_uri": "https://localhost:8080/"
        },
        "id": "jFZ4NRXnP_gC",
        "outputId": "37b25ad5-72c0-4901-df80-55e90933f68f"
      },
      "execution_count": 26,
      "outputs": [
        {
          "output_type": "stream",
          "name": "stdout",
          "text": [
            "63/63 [==============================] - 0s 2ms/step - loss: 43.5444 - accuracy: 0.6030\n"
          ]
        },
        {
          "output_type": "execute_result",
          "data": {
            "text/plain": [
              "[43.54444885253906, 0.6029925346374512]"
            ]
          },
          "metadata": {},
          "execution_count": 26
        }
      ]
    },
    {
      "cell_type": "markdown",
      "metadata": {
        "id": "0bw_0oKy4UdI"
      },
      "source": [
        "## Plot Learning Curves Assn Q2\n",
        "This is where we visualise the training of the model."
      ]
    },
    {
      "cell_type": "code",
      "metadata": {
        "colab": {
          "base_uri": "https://localhost:8080/",
          "height": 295
        },
        "id": "8DOxQYV0oDmJ",
        "outputId": "ae02fed1-9b2c-4701-f34e-8978bc206022"
      },
      "source": [
        "# Plots the training and validation accuracy over the number of epochs.\n",
        "plt.plot(history.history['accuracy'])\n",
        "plt.plot(history.history['val_accuracy'])\n",
        "plt.title('Model Accuracy')\n",
        "plt.ylabel('Accuracy')\n",
        "plt.xlabel('Epoch')\n",
        "plt.legend(['Train', 'Validation'], loc='lower right')\n",
        "plt.show()"
      ],
      "execution_count": 27,
      "outputs": [
        {
          "output_type": "display_data",
          "data": {
            "text/plain": [
              "<Figure size 432x288 with 1 Axes>"
            ],
            "image/png": "[encoded data removed]"
          },
          "metadata": {
            "needs_background": "light"
          }
        }
      ]
    },
    {
      "cell_type": "code",
      "metadata": {
        "id": "ZSQWVOnY4cdA",
        "colab": {
          "base_uri": "https://localhost:8080/",
          "height": 295
        },
        "outputId": "64000681-bc4e-4502-c865-6d2072ac3b64"
      },
      "source": [
        "# Plots the training and validation loss over the number of epochs.\n",
        "plt.plot(history.history['loss'])\n",
        "plt.plot(history.history['val_loss'])\n",
        "plt.title('Model Loss')\n",
        "plt.ylabel('Loss')\n",
        "plt.xlabel('Epoch')\n",
        "plt.legend(['Train', 'Validation'], loc='upper right')\n",
        "plt.show()"
      ],
      "execution_count": 28,
      "outputs": [
        {
          "output_type": "display_data",
          "data": {
            "text/plain": [
              "<Figure size 432x288 with 1 Axes>"
            ],
            "image/png": "[encoded data removed]"
          },
          "metadata": {
            "needs_background": "light"
          }
        }
      ]
    },
    {
      "cell_type": "markdown",
      "metadata": {
        "id": "F2NQUkTxODpG"
      },
      "source": [
        "## Data Processing Q3\n",
        "In this section we will create a data loader for algorithm that will dynamiclly load and augment the data when needed."
      ]
    },
    {
      "cell_type": "code",
      "metadata": {
        "id": "YU29yiJtODpG"
      },
      "source": [
        "# Defines the data generator that will be used to augment the images as they are loaded.\n",
        "data_generator = ImageDataGenerator(featurewise_center=True,\n",
        "                                    featurewise_std_normalization=True,\n",
        "                                    horizontal_flip=True, \n",
        "                                    vertical_flip=True,\n",
        "                                    rotation_range=90,\n",
        "                                    width_shift_range=0.1,\n",
        "                                    height_shift_range=0.1,\n",
        "                                    zoom_range=0.1,\n",
        "                                    fill_mode='nearest',\n",
        "                                    )\n"
      ],
      "execution_count": 43,
      "outputs": []
    },
    {
      "cell_type": "code",
      "source": [
        "# We pick one image to \"augment\"\n",
        "x = preprocessing.image.img_to_array(train_x[100])\n",
        "\n",
        "# Reshape it to (1, 150, 150, 3)\n",
        "x = x.reshape((1,) + x.shape)\n",
        "\n",
        "# The .flow() command below generates batches of randomly transformed images.\n",
        "# It will loop indefinitely, so we need to `break` the loop at some point!\n",
        "i = 0\n",
        "for batch in data_generator.flow(x, batch_size=1):\n",
        "    plt.figure(i)\n",
        "    imgplot = plt.imshow(preprocessing.image.array_to_img(batch[0]))\n",
        "    i += 1\n",
        "    if i % 4 == 0:\n",
        "        break\n",
        "\n",
        "plt.show()"
      ],
      "metadata": {
        "colab": {
          "base_uri": "https://localhost:8080/",
          "height": 1000
        },
        "id": "aFQeMgGSeHPZ",
        "outputId": "b7332d96-a0c7-4c08-a079-51aca33bcbf4"
      },
      "execution_count": 45,
      "outputs": [
        {
          "output_type": "stream",
          "name": "stderr",
          "text": [
            "/usr/local/lib/python3.7/dist-packages/keras_preprocessing/image/image_data_generator.py:720: UserWarning: This ImageDataGenerator specifies `featurewise_center`, but it hasn't been fit on any training data. Fit it first by calling `.fit(numpy_data)`.\n",
            "  warnings.warn('This ImageDataGenerator specifies '\n",
            "/usr/local/lib/python3.7/dist-packages/keras_preprocessing/image/image_data_generator.py:728: UserWarning: This ImageDataGenerator specifies `featurewise_std_normalization`, but it hasn't been fit on any training data. Fit it first by calling `.fit(numpy_data)`.\n",
            "  warnings.warn('This ImageDataGenerator specifies '\n"
          ]
        },
        {
          "output_type": "display_data",
          "data": {
            "text/plain": [
              "<Figure size 432x288 with 1 Axes>"
            ],
            "image/png": "[encoded data removed]"
          },
          "metadata": {
            "needs_background": "light"
          }
        },
        {
          "output_type": "display_data",
          "data": {
            "text/plain": [
              "<Figure size 432x288 with 1 Axes>"
            ],
            "image/png": "[encoded data removed]"
          },
          "metadata": {
            "needs_background": "light"
          }
        },
        {
          "output_type": "display_data",
          "data": {
            "text/plain": [
              "<Figure size 432x288 with 1 Axes>"
            ],
            "image/png": "[encoded data removed]"
          },
          "metadata": {
            "needs_background": "light"
          }
        },
        {
          "output_type": "display_data",
          "data": {
            "text/plain": [
              "<Figure size 432x288 with 1 Axes>"
            ],
            "image/png": "[encoded data removed]"
          },
          "metadata": {
            "needs_background": "light"
          }
        }
      ]
    },
    {
      "cell_type": "code",
      "metadata": {
        "id": "Lrjm57nTODpH"
      },
      "source": [
        "data_generator.fit(np.append(train_x, val_x, 0))"
      ],
      "execution_count": 32,
      "outputs": []
    },
    {
      "cell_type": "markdown",
      "metadata": {
        "id": "Q_if3HvTLjNz"
      },
      "source": [
        "## Model Definition Assn Q3\n",
        "A deep network of your own design, incorporating design techniques and regularisation methods\n",
        "you have learned about. You should use data augmentation. Try to achieve a good performance on\n",
        "the test data\n",
        "\n",
        "\n",
        "#### Below is Neural Network Architecture for Assn Q3\n",
        "\n",
        "A network with dense layers but no convolutional layers, designed to have a total number of\n",
        "parameters comparable to the convnet in 1."
      ]
    },
    {
      "cell_type": "code",
      "source": [
        "# Defines the first convolutional layer with max pooling.\n",
        "conv_1 = layers.Conv2D(filters=64, kernel_size=3, activation=\"relu\")(input)\n",
        "pool_1 = layers.MaxPool2D(pool_size=(2, 2))(conv_1)\n",
        "\n",
        "# Defines the second convolutional layer with max pooling.\n",
        "conv_2 = layers.Conv2D(filters=128, kernel_size=3, activation=\"relu\")(pool_1)\n",
        "pool_2 = layers.MaxPool2D(pool_size=(2, 2))(conv_2)\n",
        "\n",
        "# Defines the second convolutional layer with max pooling.\n",
        "conv_3 = layers.Conv2D(filters=128, kernel_size=3, activation=\"relu\")(pool_2)\n",
        "pool_3 = layers.MaxPool2D(pool_size=(2, 2))(conv_2)\n",
        "flatten = layers.Flatten()(pool_3)\n",
        "\n",
        "# Defines the output layer of the model a number of output nodes equal to the number of classes.\n",
        "dense1 = layers.Dense(128, activation='relu')(flatten)\n",
        "dropout1 = layers.Dropout(0.2)(dense1)\n",
        "dense2 = layers.Dense(64, activation='relu')(dropout1)\n",
        "output = layers.Dense(units=len(np.unique(train_y)), activation=\"softmax\")(dense2)\n",
        "\n",
        "# Initilises the defined model and prints summary of the model.\n",
        "modelCustom = Model(inputs=input, outputs=output, name=\"Model\")\n",
        "modelCustom.summary()"
      ],
      "metadata": {
        "colab": {
          "base_uri": "https://localhost:8080/"
        },
        "outputId": "74a4202d-536f-4939-b8ab-d69f6d6c8fa6",
        "id": "8bJ7_M7yLjN0"
      },
      "execution_count": 157,
      "outputs": [
        {
          "output_type": "stream",
          "name": "stdout",
          "text": [
            "Model: \"Model\"\n",
            "_________________________________________________________________\n",
            " Layer (type)                Output Shape              Param #   \n",
            "=================================================================\n",
            " input_24 (InputLayer)       [(None, 28, 28, 3)]       0         \n",
            "                                                                 \n",
            " conv2d_129 (Conv2D)         (None, 26, 26, 64)        1792      \n",
            "                                                                 \n",
            " max_pooling2d_126 (MaxPooli  (None, 13, 13, 64)       0         \n",
            " ng2D)                                                           \n",
            "                                                                 \n",
            " conv2d_130 (Conv2D)         (None, 11, 11, 128)       73856     \n",
            "                                                                 \n",
            " max_pooling2d_128 (MaxPooli  (None, 5, 5, 128)        0         \n",
            " ng2D)                                                           \n",
            "                                                                 \n",
            " flatten_40 (Flatten)        (None, 3200)              0         \n",
            "                                                                 \n",
            " dense_94 (Dense)            (None, 128)               409728    \n",
            "                                                                 \n",
            " dropout_75 (Dropout)        (None, 128)               0         \n",
            "                                                                 \n",
            " dense_95 (Dense)            (None, 64)                8256      \n",
            "                                                                 \n",
            " dense_96 (Dense)            (None, 7)                 455       \n",
            "                                                                 \n",
            "=================================================================\n",
            "Total params: 494,087\n",
            "Trainable params: 494,087\n",
            "Non-trainable params: 0\n",
            "_________________________________________________________________\n"
          ]
        }
      ]
    },
    {
      "cell_type": "markdown",
      "metadata": {
        "id": "tkkY-KVsLjN0"
      },
      "source": [
        "## Model Training Assn Q3\n",
        "This is where we define the training options and then train the model.\n"
      ]
    },
    {
      "cell_type": "code",
      "metadata": {
        "id": "TONsziK7LjN0"
      },
      "source": [
        "# Defines the parameters used during training.\n",
        "BATCH_SIZE = 32\n",
        "NUM_EPOCHS = 15\n",
        "LEARNING_RATE = 0.001"
      ],
      "execution_count": 162,
      "outputs": []
    },
    {
      "cell_type": "code",
      "metadata": {
        "id": "LgCvpEjmLjN0"
      },
      "source": [
        "# Defines the optimiser used to adjust the model weights and compiles the model.\n",
        "optimiser = SGD(learning_rate=LEARNING_RATE)\n",
        "modelCustom.compile(optimizer=optimiser, loss=\"categorical_crossentropy\", metrics=[\"accuracy\"])"
      ],
      "execution_count": 163,
      "outputs": []
    },
    {
      "cell_type": "code",
      "metadata": {
        "colab": {
          "base_uri": "https://localhost:8080/"
        },
        "outputId": "df15c0a9-46eb-4cab-c1c3-8d1938e91dd2",
        "id": "X6do2cCjLjN0"
      },
      "source": [
        "# We use the data generator to pass the training and validation data to the model to train it.\n",
        "history = modelCustom.fit(data_generator.flow(train_x, to_categorical(train_y), batch_size=BATCH_SIZE), \n",
        "                    steps_per_epoch=len(train_x) / BATCH_SIZE,\n",
        "                    validation_data=data_generator.flow(val_x, to_categorical(val_y), batch_size=BATCH_SIZE),\n",
        "                    validation_steps=len(val_x) / BATCH_SIZE,\n",
        "                    epochs=NUM_EPOCHS)"
      ],
      "execution_count": 164,
      "outputs": [
        {
          "output_type": "stream",
          "name": "stdout",
          "text": [
            "Epoch 1/15\n"
          ]
        },
        {
          "output_type": "stream",
          "name": "stderr",
          "text": [
            "/usr/local/lib/python3.7/dist-packages/keras_preprocessing/image/image_data_generator.py:720: UserWarning: This ImageDataGenerator specifies `featurewise_center`, but it hasn't been fit on any training data. Fit it first by calling `.fit(numpy_data)`.\n",
            "  warnings.warn('This ImageDataGenerator specifies '\n",
            "/usr/local/lib/python3.7/dist-packages/keras_preprocessing/image/image_data_generator.py:728: UserWarning: This ImageDataGenerator specifies `featurewise_std_normalization`, but it hasn't been fit on any training data. Fit it first by calling `.fit(numpy_data)`.\n",
            "  warnings.warn('This ImageDataGenerator specifies '\n"
          ]
        },
        {
          "output_type": "stream",
          "name": "stdout",
          "text": [
            "218/218 [==============================] - 18s 82ms/step - loss: 0.8965 - accuracy: 0.6780 - val_loss: 0.8787 - val_accuracy: 0.6600\n",
            "Epoch 2/15\n",
            "218/218 [==============================] - 18s 81ms/step - loss: 0.8934 - accuracy: 0.6815 - val_loss: 0.8657 - val_accuracy: 0.6810\n",
            "Epoch 3/15\n",
            "218/218 [==============================] - 18s 81ms/step - loss: 0.8851 - accuracy: 0.6809 - val_loss: 0.8642 - val_accuracy: 0.6889\n",
            "Epoch 4/15\n",
            "218/218 [==============================] - 18s 81ms/step - loss: 0.8854 - accuracy: 0.6835 - val_loss: 0.8598 - val_accuracy: 0.6780\n",
            "Epoch 5/15\n",
            "218/218 [==============================] - 18s 82ms/step - loss: 0.8839 - accuracy: 0.6833 - val_loss: 0.8428 - val_accuracy: 0.7019\n",
            "Epoch 6/15\n",
            "218/218 [==============================] - 18s 81ms/step - loss: 0.8740 - accuracy: 0.6833 - val_loss: 0.8792 - val_accuracy: 0.6780\n",
            "Epoch 7/15\n",
            "218/218 [==============================] - 18s 81ms/step - loss: 0.8778 - accuracy: 0.6809 - val_loss: 0.8627 - val_accuracy: 0.6849\n",
            "Epoch 8/15\n",
            "218/218 [==============================] - 18s 81ms/step - loss: 0.8699 - accuracy: 0.6852 - val_loss: 0.8551 - val_accuracy: 0.6830\n",
            "Epoch 9/15\n",
            "218/218 [==============================] - 18s 81ms/step - loss: 0.8701 - accuracy: 0.6832 - val_loss: 0.8863 - val_accuracy: 0.6859\n",
            "Epoch 10/15\n",
            "218/218 [==============================] - 18s 81ms/step - loss: 0.8648 - accuracy: 0.6865 - val_loss: 0.8424 - val_accuracy: 0.6909\n",
            "Epoch 11/15\n",
            "218/218 [==============================] - 18s 81ms/step - loss: 0.8633 - accuracy: 0.6836 - val_loss: 0.8375 - val_accuracy: 0.6939\n",
            "Epoch 12/15\n",
            "218/218 [==============================] - 18s 81ms/step - loss: 0.8556 - accuracy: 0.6875 - val_loss: 0.8137 - val_accuracy: 0.6929\n",
            "Epoch 13/15\n",
            "218/218 [==============================] - 18s 81ms/step - loss: 0.8639 - accuracy: 0.6852 - val_loss: 0.8240 - val_accuracy: 0.6989\n",
            "Epoch 14/15\n",
            "218/218 [==============================] - 18s 81ms/step - loss: 0.8565 - accuracy: 0.6893 - val_loss: 0.8578 - val_accuracy: 0.6830\n",
            "Epoch 15/15\n",
            "218/218 [==============================] - 18s 81ms/step - loss: 0.8483 - accuracy: 0.6944 - val_loss: 0.8176 - val_accuracy: 0.6919\n"
          ]
        }
      ]
    },
    {
      "cell_type": "code",
      "source": [
        "test_x.shape,test_y.shape,train_x.shape,train_y.shape"
      ],
      "metadata": {
        "colab": {
          "base_uri": "https://localhost:8080/"
        },
        "outputId": "a11a4ea9-a45a-4299-d7d5-fc559a071977",
        "id": "Aej76YS8LjN1"
      },
      "execution_count": null,
      "outputs": [
        {
          "output_type": "execute_result",
          "data": {
            "text/plain": [
              "((2005, 28, 28, 3), (2005, 1), (7007, 28, 28, 3), (7007, 1))"
            ]
          },
          "metadata": {},
          "execution_count": 37
        }
      ]
    },
    {
      "cell_type": "code",
      "source": [
        "test_x.shape,test_y.shape"
      ],
      "metadata": {
        "colab": {
          "base_uri": "https://localhost:8080/"
        },
        "outputId": "55f1e645-1abd-4f43-f306-58a32462d116",
        "id": "c8CqwdECLjN1"
      },
      "execution_count": null,
      "outputs": [
        {
          "output_type": "execute_result",
          "data": {
            "text/plain": [
              "((2005, 28, 28, 3), (2005, 7))"
            ]
          },
          "metadata": {},
          "execution_count": 47
        }
      ]
    },
    {
      "cell_type": "code",
      "source": [
        "# Evaluating model on test data\n",
        "test_y = utils.to_categorical(test_y)"
      ],
      "metadata": {
        "id": "TgOhKQLgLjN1"
      },
      "execution_count": null,
      "outputs": []
    },
    {
      "cell_type": "code",
      "source": [
        "# Test Loss and Test Accuracy\n",
        "modelCustom.evaluate(test_x, test_y)"
      ],
      "metadata": {
        "colab": {
          "base_uri": "https://localhost:8080/"
        },
        "outputId": "3478d7db-52f7-4fe2-9d48-c00ff83d71ab",
        "id": "JQaLI_0ZLjN1"
      },
      "execution_count": 161,
      "outputs": [
        {
          "output_type": "stream",
          "name": "stdout",
          "text": [
            "63/63 [==============================] - 1s 20ms/step - loss: 0.8527 - accuracy: 0.6853\n"
          ]
        },
        {
          "output_type": "execute_result",
          "data": {
            "text/plain": [
              "[0.8527277112007141, 0.6852867603302002]"
            ]
          },
          "metadata": {},
          "execution_count": 161
        }
      ]
    },
    {
      "cell_type": "code",
      "source": [
        "modelCustom.evaluate(test_x, test_y)"
      ],
      "metadata": {
        "colab": {
          "base_uri": "https://localhost:8080/"
        },
        "id": "V2_c_EEDA2Ip",
        "outputId": "aed8d550-6c98-46b9-d009-fe9094d8a989"
      },
      "execution_count": 165,
      "outputs": [
        {
          "output_type": "stream",
          "name": "stdout",
          "text": [
            "63/63 [==============================] - 1s 19ms/step - loss: 0.8022 - accuracy: 0.6913\n"
          ]
        },
        {
          "output_type": "execute_result",
          "data": {
            "text/plain": [
              "[0.8022259473800659, 0.6912718415260315]"
            ]
          },
          "metadata": {},
          "execution_count": 165
        }
      ]
    },
    {
      "cell_type": "markdown",
      "metadata": {
        "id": "IiSeNMQALjN1"
      },
      "source": [
        "## Plot Learning Curves Assn Q3\n",
        "This is where we visualise the training of the model."
      ]
    },
    {
      "cell_type": "code",
      "metadata": {
        "colab": {
          "base_uri": "https://localhost:8080/",
          "height": 295
        },
        "outputId": "6caef726-cfd1-4b01-9b37-419cb11992d5",
        "id": "0NcBQB7sLjN1"
      },
      "source": [
        "# Plots the training and validation accuracy over the number of epochs.\n",
        "plt.plot(history.history['accuracy'])\n",
        "plt.plot(history.history['val_accuracy'])\n",
        "plt.title('Model Accuracy')\n",
        "plt.ylabel('Accuracy')\n",
        "plt.xlabel('Epoch')\n",
        "plt.legend(['Train', 'Validation'], loc='lower right')\n",
        "plt.show()"
      ],
      "execution_count": 166,
      "outputs": [
        {
          "output_type": "display_data",
          "data": {
            "text/plain": [
              "<Figure size 432x288 with 1 Axes>"
            ],
            "image/png": "[encoded data removed]"
          },
          "metadata": {
            "needs_background": "light"
          }
        }
      ]
    },
    {
      "cell_type": "code",
      "metadata": {
        "colab": {
          "base_uri": "https://localhost:8080/",
          "height": 295
        },
        "outputId": "26fc71cc-7296-43f3-b77c-6e6a4f55b2f8",
        "id": "q9Yz8Gf_LjN1"
      },
      "source": [
        "# Plots the training and validation loss over the number of epochs.\n",
        "plt.plot(history.history['loss'])\n",
        "plt.plot(history.history['val_loss'])\n",
        "plt.title('Model Loss')\n",
        "plt.ylabel('Loss')\n",
        "plt.xlabel('Epoch')\n",
        "plt.legend(['Train', 'Validation'], loc='upper right')\n",
        "plt.show()"
      ],
      "execution_count": 167,
      "outputs": [
        {
          "output_type": "display_data",
          "data": {
            "text/plain": [
              "<Figure size 432x288 with 1 Axes>"
            ],
            "image/png": "[encoded data removed]"
          },
          "metadata": {
            "needs_background": "light"
          }
        }
      ]
    },
    {
      "cell_type": "markdown",
      "source": [
        "###The Conclusion, Graph and data comparison is in attached word file. \n",
        "\n"
      ],
      "metadata": {
        "id": "hsENFpUWRqyF"
      }
    }
  ]
}